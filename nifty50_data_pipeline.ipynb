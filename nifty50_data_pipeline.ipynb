{
 "cells": [
  {
   "cell_type": "code",
   "execution_count": 133,
   "metadata": {},
   "outputs": [
    {
     "ename": "ModuleNotFoundError",
     "evalue": "No module named 'matplotlib'",
     "output_type": "error",
     "traceback": [
      "\u001b[1;31m---------------------------------------------------------------------------\u001b[0m",
      "\u001b[1;31mModuleNotFoundError\u001b[0m                       Traceback (most recent call last)",
      "\u001b[1;32m<ipython-input-133-f685dcdd3b28>\u001b[0m in \u001b[0;36m<module>\u001b[1;34m\u001b[0m\n\u001b[0;32m      6\u001b[0m \u001b[1;32mimport\u001b[0m \u001b[0mos\u001b[0m\u001b[1;33m\u001b[0m\u001b[1;33m\u001b[0m\u001b[0m\n\u001b[0;32m      7\u001b[0m \u001b[1;32mimport\u001b[0m \u001b[0mnumpy\u001b[0m \u001b[1;32mas\u001b[0m \u001b[0mnp\u001b[0m\u001b[1;33m\u001b[0m\u001b[1;33m\u001b[0m\u001b[0m\n\u001b[1;32m----> 8\u001b[1;33m \u001b[1;32mimport\u001b[0m \u001b[0mmatplotlib\u001b[0m \u001b[1;32mas\u001b[0m \u001b[0mplt\u001b[0m\u001b[1;33m\u001b[0m\u001b[1;33m\u001b[0m\u001b[0m\n\u001b[0m",
      "\u001b[1;31mModuleNotFoundError\u001b[0m: No module named 'matplotlib'"
     ]
    }
   ],
   "source": [
    "from NSEDownload import stocks\n",
    "import glob\n",
    "import pandas as pd\n",
    "import time\n",
    "from random import randint\n",
    "import os\n",
    "import numpy as np"
   ]
  },
  {
   "cell_type": "code",
   "execution_count": 2,
   "metadata": {},
   "outputs": [],
   "source": [
    "all_n50_scripts = pd.read_csv('data/nifty_50.csv')"
   ]
  },
  {
   "cell_type": "markdown",
   "metadata": {},
   "source": [
    "This file contains NIFTY50 index as well. Removing it from the list."
   ]
  },
  {
   "cell_type": "code",
   "execution_count": 3,
   "metadata": {},
   "outputs": [],
   "source": [
    "all_n50_scripts = list(all_n50_scripts.Symbol)\n",
    "all_n50_scripts = all_n50_scripts[1:]"
   ]
  },
  {
   "cell_type": "code",
   "execution_count": 4,
   "metadata": {},
   "outputs": [],
   "source": [
    "completed_files = os.listdir('data\\Adjusted')\n",
    "completed_files = [file.split('.')[0] for file in completed_files if file.endswith('.csv')]"
   ]
  },
  {
   "cell_type": "code",
   "execution_count": 5,
   "metadata": {},
   "outputs": [
    {
     "name": "stdout",
     "output_type": "stream",
     "text": [
      "0\n"
     ]
    }
   ],
   "source": [
    "all_n50_scripts = [script for script in all_n50_scripts if script not in completed_files]\n",
    "print(len(all_n50_scripts))"
   ]
  },
  {
   "cell_type": "code",
   "execution_count": 6,
   "metadata": {},
   "outputs": [],
   "source": [
    "for script in all_n50_scripts:\n",
    "    try:\n",
    "        print(\"Runnning for {}\".format(script))\n",
    "        df = stocks.get_adjusted_stock(stockSymbol = script, start_date = '1-1-2000', end_date = '18-1-2022')\n",
    "        df = df.reset_index()\n",
    "        if df.shape[0] > 1:\n",
    "            df.to_csv(\"data\\Adjusted\\{}.csv\".format(script), index=False)\n",
    "    except:\n",
    "        print(\"Not successful for {}\".format(script))\n",
    "        time.sleep(randint(3,10))\n",
    "        pass\n",
    "    time.sleep(randint(3,10))"
   ]
  },
  {
   "cell_type": "markdown",
   "metadata": {},
   "source": [
    "There are changes in symbol for few companies. Let's replace older symbol with latest one and merge all files into one."
   ]
  },
  {
   "cell_type": "code",
   "execution_count": 7,
   "metadata": {},
   "outputs": [],
   "source": [
    "file_path = 'data\\Adjusted'\n",
    "completed_files = os.listdir(file_path)\n",
    "completed_files = [file for file in completed_files if file.endswith('.csv')]"
   ]
  },
  {
   "cell_type": "code",
   "execution_count": 8,
   "metadata": {},
   "outputs": [],
   "source": [
    "all_scripts_list =[]\n",
    "for file in completed_files:\n",
    "    df = pd.read_csv(file_path + '\\\\' + file)\n",
    "    if len(df['Symbol'].unique()) > 1:\n",
    "        latest_symbol = df.tail(1)['Symbol'].values\n",
    "        df['Symbol'] = latest_symbol[0]\n",
    "    all_scripts_list.append(df)"
   ]
  },
  {
   "cell_type": "code",
   "execution_count": 9,
   "metadata": {},
   "outputs": [],
   "source": [
    "all_scripts_df = pd.concat(all_scripts_list, axis=0, ignore_index=True)"
   ]
  },
  {
   "cell_type": "markdown",
   "metadata": {},
   "source": [
    "This Data needs some cleaning before consumption. Next few steps will aim towards inspecting every column, changing data type(if required) and cleaning it."
   ]
  },
  {
   "cell_type": "code",
   "execution_count": 10,
   "metadata": {},
   "outputs": [],
   "source": [
    "all_scripts_df = all_scripts_df.drop_duplicates()"
   ]
  },
  {
   "cell_type": "code",
   "execution_count": 11,
   "metadata": {},
   "outputs": [],
   "source": [
    "all_scripts_df.Date = pd.to_datetime(all_scripts_df.Date)"
   ]
  },
  {
   "cell_type": "code",
   "execution_count": 12,
   "metadata": {},
   "outputs": [],
   "source": [
    "all_scripts_df = all_scripts_df.drop(['Series'], axis=1)"
   ]
  },
  {
   "cell_type": "code",
   "execution_count": 13,
   "metadata": {},
   "outputs": [
    {
     "data": {
      "text/plain": [
       "Index(['Date', 'Symbol', 'Open Price', 'High Price', 'Low Price', 'Last Price',\n",
       "       'Close Price', 'Average Price', 'Total Traded Quantity', 'Turnover',\n",
       "       'No. of Trades', 'Deliverable Qty', '% Dly Qt to Traded Qty', ' '],\n",
       "      dtype='object')"
      ]
     },
     "execution_count": 13,
     "metadata": {},
     "output_type": "execute_result"
    }
   ],
   "source": [
    "all_scripts_df.columns"
   ]
  },
  {
   "cell_type": "code",
   "execution_count": 14,
   "metadata": {},
   "outputs": [],
   "source": [
    "all_scripts_df = all_scripts_df.rename(columns={'Open Price' : 'Open',\n",
    "'Open Price' : 'Open',\n",
    "'High Price' : 'High',\n",
    "'Low Price' : 'Low',\n",
    "'Last Price' : 'Last',\n",
    "'Close Price' : 'Close',\n",
    "'Average Price' : 'Average',\n",
    "'Total Traded Quantity' : 'Volume',\n",
    "'No. of Trades' : 'Trades',\n",
    "'Deliverable Qty' : 'Deliverable_quatity',\n",
    "'% Dly Qt to Traded Qty' : 'Deliverable_quatity_pct',\n",
    "})"
   ]
  },
  {
   "cell_type": "code",
   "execution_count": 15,
   "metadata": {},
   "outputs": [],
   "source": [
    "all_scripts_df = all_scripts_df[['Date', 'Symbol', 'Open', 'High', 'Low', 'Last', 'Close', 'Average',\n",
    "       'Volume', 'Turnover', 'Trades', 'Deliverable_quatity','Deliverable_quatity_pct']]"
   ]
  },
  {
   "cell_type": "code",
   "execution_count": 16,
   "metadata": {},
   "outputs": [],
   "source": [
    "all_scripts_df.loc[all_scripts_df.Trades=='-','Trades'] = 0\n",
    "all_scripts_df['Trades'] = all_scripts_df['Trades'].astype('int')"
   ]
  },
  {
   "cell_type": "code",
   "execution_count": 17,
   "metadata": {},
   "outputs": [],
   "source": [
    "all_scripts_df.loc[all_scripts_df.Deliverable_quatity=='-','Deliverable_quatity'] = -1\n",
    "all_scripts_df['Deliverable_quatity'] = all_scripts_df['Deliverable_quatity'].astype('int')"
   ]
  },
  {
   "cell_type": "code",
   "execution_count": 18,
   "metadata": {},
   "outputs": [],
   "source": [
    "all_scripts_df.loc[all_scripts_df.Deliverable_quatity_pct=='-','Deliverable_quatity_pct'] = -1\n",
    "all_scripts_df['Deliverable_quatity_pct'] = all_scripts_df['Deliverable_quatity_pct'].astype('float64')"
   ]
  },
  {
   "cell_type": "code",
   "execution_count": 19,
   "metadata": {},
   "outputs": [],
   "source": [
    "all_scripts_df.loc[all_scripts_df.Trades==0, 'Trades'] = (all_scripts_df[all_scripts_df.Trades==0]['Deliverable_quatity'] * 100) / (all_scripts_df[all_scripts_df.Trades==0]['Deliverable_quatity_pct'] )"
   ]
  },
  {
   "cell_type": "code",
   "execution_count": 20,
   "metadata": {},
   "outputs": [],
   "source": [
    "all_scripts_df = all_scripts_df.sort_values(by=['Symbol','Date'])"
   ]
  },
  {
   "cell_type": "code",
   "execution_count": 22,
   "metadata": {},
   "outputs": [],
   "source": [
    "all_scripts_df['10d_max'] = all_scripts_df.groupby('Symbol').rolling(10)['High'].max().groupby(level=0).shift(-10).droplevel(0)"
   ]
  },
  {
   "cell_type": "code",
   "execution_count": 23,
   "metadata": {},
   "outputs": [],
   "source": [
    "all_scripts_df['10d_pct_change'] = (all_scripts_df['10d_max'] / all_scripts_df['Close'])-1"
   ]
  },
  {
   "cell_type": "code",
   "execution_count": 24,
   "metadata": {},
   "outputs": [],
   "source": [
    "all_scripts_df = all_scripts_df.drop('10d_max', axis=1)"
   ]
  },
  {
   "cell_type": "code",
   "execution_count": 25,
   "metadata": {},
   "outputs": [
    {
     "data": {
      "text/plain": [
       "0.06506228528679975"
      ]
     },
     "execution_count": 25,
     "metadata": {},
     "output_type": "execute_result"
    }
   ],
   "source": [
    "np.mean(abs(all_scripts_df['10d_pct_change']))"
   ]
  },
  {
   "cell_type": "code",
   "execution_count": 26,
   "metadata": {},
   "outputs": [
    {
     "data": {
      "text/plain": [
       "count    239648.000000\n",
       "mean          0.064564\n",
       "std           0.064338\n",
       "min          -0.923041\n",
       "25%           0.022690\n",
       "50%           0.047817\n",
       "75%           0.086067\n",
       "max           1.126108\n",
       "Name: 10d_pct_change, dtype: float64"
      ]
     },
     "execution_count": 26,
     "metadata": {},
     "output_type": "execute_result"
    }
   ],
   "source": [
    "all_scripts_df['10d_pct_change'].describe()"
   ]
  },
  {
   "cell_type": "code",
   "execution_count": 27,
   "metadata": {},
   "outputs": [],
   "source": [
    "all_scripts_df.to_csv('data/n50_data.csv',index=False)"
   ]
  },
  {
   "cell_type": "code",
   "execution_count": 92,
   "metadata": {},
   "outputs": [],
   "source": [
    "all_scripts_df['22d_high'] = all_scripts_df.groupby('Symbol').rolling(22)['High'].max().groupby(level=0).shift(-22).droplevel(0)\n",
    "all_scripts_df['22d_low']= all_scripts_df.groupby('Symbol').rolling(22)['Low'].min().groupby(level=0).shift(-22).droplevel(0)"
   ]
  },
  {
   "cell_type": "code",
   "execution_count": 93,
   "metadata": {},
   "outputs": [
    {
     "data": {
      "text/html": [
       "<div>\n",
       "<style scoped>\n",
       "    .dataframe tbody tr th:only-of-type {\n",
       "        vertical-align: middle;\n",
       "    }\n",
       "\n",
       "    .dataframe tbody tr th {\n",
       "        vertical-align: top;\n",
       "    }\n",
       "\n",
       "    .dataframe thead th {\n",
       "        text-align: right;\n",
       "    }\n",
       "</style>\n",
       "<table border=\"1\" class=\"dataframe\">\n",
       "  <thead>\n",
       "    <tr style=\"text-align: right;\">\n",
       "      <th></th>\n",
       "      <th>Date</th>\n",
       "      <th>Symbol</th>\n",
       "      <th>Open</th>\n",
       "      <th>High</th>\n",
       "      <th>Low</th>\n",
       "      <th>Last</th>\n",
       "      <th>Close</th>\n",
       "      <th>Average</th>\n",
       "      <th>Volume</th>\n",
       "      <th>Turnover</th>\n",
       "      <th>Trades</th>\n",
       "      <th>Deliverable_quatity</th>\n",
       "      <th>Deliverable_quatity_pct</th>\n",
       "      <th>10d_pct_change</th>\n",
       "      <th>22d_high</th>\n",
       "      <th>22d_low</th>\n",
       "    </tr>\n",
       "  </thead>\n",
       "  <tbody>\n",
       "    <tr>\n",
       "      <th>0</th>\n",
       "      <td>2007-11-27</td>\n",
       "      <td>ADANIPORTS</td>\n",
       "      <td>154.00</td>\n",
       "      <td>210.00</td>\n",
       "      <td>154.0</td>\n",
       "      <td>191.8</td>\n",
       "      <td>192.58</td>\n",
       "      <td>196.944</td>\n",
       "      <td>27294366</td>\n",
       "      <td>2.687719e+10</td>\n",
       "      <td>2.729684e+07</td>\n",
       "      <td>9859619</td>\n",
       "      <td>36.12</td>\n",
       "      <td>0.177692</td>\n",
       "      <td>259.0</td>\n",
       "      <td>168.2</td>\n",
       "    </tr>\n",
       "    <tr>\n",
       "      <th>1</th>\n",
       "      <td>2007-11-28</td>\n",
       "      <td>ADANIPORTS</td>\n",
       "      <td>196.80</td>\n",
       "      <td>198.00</td>\n",
       "      <td>174.8</td>\n",
       "      <td>177.0</td>\n",
       "      <td>178.78</td>\n",
       "      <td>188.276</td>\n",
       "      <td>4581338</td>\n",
       "      <td>4.312765e+09</td>\n",
       "      <td>4.581583e+06</td>\n",
       "      <td>1453278</td>\n",
       "      <td>31.72</td>\n",
       "      <td>0.268598</td>\n",
       "      <td>263.8</td>\n",
       "      <td>168.2</td>\n",
       "    </tr>\n",
       "    <tr>\n",
       "      <th>2</th>\n",
       "      <td>2007-11-29</td>\n",
       "      <td>ADANIPORTS</td>\n",
       "      <td>181.80</td>\n",
       "      <td>182.95</td>\n",
       "      <td>168.2</td>\n",
       "      <td>177.4</td>\n",
       "      <td>176.84</td>\n",
       "      <td>177.618</td>\n",
       "      <td>5124121</td>\n",
       "      <td>4.550658e+09</td>\n",
       "      <td>5.122979e+06</td>\n",
       "      <td>1069678</td>\n",
       "      <td>20.88</td>\n",
       "      <td>0.300611</td>\n",
       "      <td>264.8</td>\n",
       "      <td>178.0</td>\n",
       "    </tr>\n",
       "    <tr>\n",
       "      <th>3</th>\n",
       "      <td>2007-11-30</td>\n",
       "      <td>ADANIPORTS</td>\n",
       "      <td>178.00</td>\n",
       "      <td>191.60</td>\n",
       "      <td>178.0</td>\n",
       "      <td>185.8</td>\n",
       "      <td>184.31</td>\n",
       "      <td>185.834</td>\n",
       "      <td>4609762</td>\n",
       "      <td>4.283257e+09</td>\n",
       "      <td>4.610285e+06</td>\n",
       "      <td>1260913</td>\n",
       "      <td>27.35</td>\n",
       "      <td>0.247898</td>\n",
       "      <td>264.8</td>\n",
       "      <td>184.4</td>\n",
       "    </tr>\n",
       "    <tr>\n",
       "      <th>4</th>\n",
       "      <td>2007-12-03</td>\n",
       "      <td>ADANIPORTS</td>\n",
       "      <td>187.95</td>\n",
       "      <td>199.00</td>\n",
       "      <td>184.4</td>\n",
       "      <td>196.0</td>\n",
       "      <td>193.86</td>\n",
       "      <td>193.130</td>\n",
       "      <td>2977470</td>\n",
       "      <td>2.875200e+09</td>\n",
       "      <td>2.977464e+06</td>\n",
       "      <td>816123</td>\n",
       "      <td>27.41</td>\n",
       "      <td>0.204993</td>\n",
       "      <td>264.8</td>\n",
       "      <td>195.2</td>\n",
       "    </tr>\n",
       "  </tbody>\n",
       "</table>\n",
       "</div>"
      ],
      "text/plain": [
       "        Date      Symbol    Open    High    Low   Last   Close  Average  \\\n",
       "0 2007-11-27  ADANIPORTS  154.00  210.00  154.0  191.8  192.58  196.944   \n",
       "1 2007-11-28  ADANIPORTS  196.80  198.00  174.8  177.0  178.78  188.276   \n",
       "2 2007-11-29  ADANIPORTS  181.80  182.95  168.2  177.4  176.84  177.618   \n",
       "3 2007-11-30  ADANIPORTS  178.00  191.60  178.0  185.8  184.31  185.834   \n",
       "4 2007-12-03  ADANIPORTS  187.95  199.00  184.4  196.0  193.86  193.130   \n",
       "\n",
       "     Volume      Turnover        Trades  Deliverable_quatity  \\\n",
       "0  27294366  2.687719e+10  2.729684e+07              9859619   \n",
       "1   4581338  4.312765e+09  4.581583e+06              1453278   \n",
       "2   5124121  4.550658e+09  5.122979e+06              1069678   \n",
       "3   4609762  4.283257e+09  4.610285e+06              1260913   \n",
       "4   2977470  2.875200e+09  2.977464e+06               816123   \n",
       "\n",
       "   Deliverable_quatity_pct  10d_pct_change  22d_high  22d_low  \n",
       "0                    36.12        0.177692     259.0    168.2  \n",
       "1                    31.72        0.268598     263.8    168.2  \n",
       "2                    20.88        0.300611     264.8    178.0  \n",
       "3                    27.35        0.247898     264.8    184.4  \n",
       "4                    27.41        0.204993     264.8    195.2  "
      ]
     },
     "execution_count": 93,
     "metadata": {},
     "output_type": "execute_result"
    }
   ],
   "source": [
    "all_scripts_df.tail()"
   ]
  },
  {
   "cell_type": "code",
   "execution_count": 119,
   "metadata": {},
   "outputs": [
    {
     "data": {
      "text/html": [
       "<div>\n",
       "<style scoped>\n",
       "    .dataframe tbody tr th:only-of-type {\n",
       "        vertical-align: middle;\n",
       "    }\n",
       "\n",
       "    .dataframe tbody tr th {\n",
       "        vertical-align: top;\n",
       "    }\n",
       "\n",
       "    .dataframe thead th {\n",
       "        text-align: right;\n",
       "    }\n",
       "</style>\n",
       "<table border=\"1\" class=\"dataframe\">\n",
       "  <thead>\n",
       "    <tr style=\"text-align: right;\">\n",
       "      <th></th>\n",
       "      <th>Date</th>\n",
       "      <th>Symbol</th>\n",
       "      <th>Open</th>\n",
       "      <th>High</th>\n",
       "      <th>Low</th>\n",
       "      <th>Last</th>\n",
       "      <th>Close</th>\n",
       "      <th>Average</th>\n",
       "      <th>Volume</th>\n",
       "      <th>Turnover</th>\n",
       "      <th>Trades</th>\n",
       "      <th>Deliverable_quatity</th>\n",
       "      <th>Deliverable_quatity_pct</th>\n",
       "      <th>10d_pct_change</th>\n",
       "      <th>22d_high</th>\n",
       "      <th>22d_low</th>\n",
       "    </tr>\n",
       "  </thead>\n",
       "  <tbody>\n",
       "    <tr>\n",
       "      <th>240264</th>\n",
       "      <td>2021-12-10</td>\n",
       "      <td>WIPRO</td>\n",
       "      <td>642.15</td>\n",
       "      <td>645.90</td>\n",
       "      <td>635.10</td>\n",
       "      <td>638.40</td>\n",
       "      <td>638.25</td>\n",
       "      <td>639.36</td>\n",
       "      <td>4262606</td>\n",
       "      <td>2.725341e+09</td>\n",
       "      <td>91876.0</td>\n",
       "      <td>2287232</td>\n",
       "      <td>53.66</td>\n",
       "      <td>0.100509</td>\n",
       "      <td>726.8</td>\n",
       "      <td>635.35</td>\n",
       "    </tr>\n",
       "    <tr>\n",
       "      <th>240265</th>\n",
       "      <td>2021-12-13</td>\n",
       "      <td>WIPRO</td>\n",
       "      <td>643.50</td>\n",
       "      <td>656.55</td>\n",
       "      <td>640.20</td>\n",
       "      <td>646.95</td>\n",
       "      <td>645.40</td>\n",
       "      <td>648.19</td>\n",
       "      <td>6561840</td>\n",
       "      <td>4.253317e+09</td>\n",
       "      <td>108644.0</td>\n",
       "      <td>3195970</td>\n",
       "      <td>48.71</td>\n",
       "      <td>0.088317</td>\n",
       "      <td>726.8</td>\n",
       "      <td>635.35</td>\n",
       "    </tr>\n",
       "    <tr>\n",
       "      <th>240266</th>\n",
       "      <td>2021-12-14</td>\n",
       "      <td>WIPRO</td>\n",
       "      <td>646.00</td>\n",
       "      <td>651.90</td>\n",
       "      <td>639.25</td>\n",
       "      <td>647.00</td>\n",
       "      <td>646.90</td>\n",
       "      <td>647.11</td>\n",
       "      <td>4304706</td>\n",
       "      <td>2.785627e+09</td>\n",
       "      <td>87148.0</td>\n",
       "      <td>1859554</td>\n",
       "      <td>43.20</td>\n",
       "      <td>0.093678</td>\n",
       "      <td>726.8</td>\n",
       "      <td>635.35</td>\n",
       "    </tr>\n",
       "    <tr>\n",
       "      <th>240267</th>\n",
       "      <td>2021-12-15</td>\n",
       "      <td>WIPRO</td>\n",
       "      <td>646.70</td>\n",
       "      <td>646.70</td>\n",
       "      <td>635.35</td>\n",
       "      <td>636.55</td>\n",
       "      <td>636.40</td>\n",
       "      <td>638.83</td>\n",
       "      <td>3561772</td>\n",
       "      <td>2.275356e+09</td>\n",
       "      <td>78869.0</td>\n",
       "      <td>1606411</td>\n",
       "      <td>45.10</td>\n",
       "      <td>0.115651</td>\n",
       "      <td>726.8</td>\n",
       "      <td>636.50</td>\n",
       "    </tr>\n",
       "    <tr>\n",
       "      <th>240268</th>\n",
       "      <td>2021-12-16</td>\n",
       "      <td>WIPRO</td>\n",
       "      <td>644.00</td>\n",
       "      <td>649.90</td>\n",
       "      <td>639.40</td>\n",
       "      <td>647.50</td>\n",
       "      <td>644.30</td>\n",
       "      <td>644.54</td>\n",
       "      <td>6218620</td>\n",
       "      <td>4.008142e+09</td>\n",
       "      <td>106870.0</td>\n",
       "      <td>2358282</td>\n",
       "      <td>37.92</td>\n",
       "      <td>0.117337</td>\n",
       "      <td>726.8</td>\n",
       "      <td>633.05</td>\n",
       "    </tr>\n",
       "  </tbody>\n",
       "</table>\n",
       "</div>"
      ],
      "text/plain": [
       "             Date Symbol    Open    High     Low    Last   Close  Average  \\\n",
       "240264 2021-12-10  WIPRO  642.15  645.90  635.10  638.40  638.25   639.36   \n",
       "240265 2021-12-13  WIPRO  643.50  656.55  640.20  646.95  645.40   648.19   \n",
       "240266 2021-12-14  WIPRO  646.00  651.90  639.25  647.00  646.90   647.11   \n",
       "240267 2021-12-15  WIPRO  646.70  646.70  635.35  636.55  636.40   638.83   \n",
       "240268 2021-12-16  WIPRO  644.00  649.90  639.40  647.50  644.30   644.54   \n",
       "\n",
       "         Volume      Turnover    Trades  Deliverable_quatity  \\\n",
       "240264  4262606  2.725341e+09   91876.0              2287232   \n",
       "240265  6561840  4.253317e+09  108644.0              3195970   \n",
       "240266  4304706  2.785627e+09   87148.0              1859554   \n",
       "240267  3561772  2.275356e+09   78869.0              1606411   \n",
       "240268  6218620  4.008142e+09  106870.0              2358282   \n",
       "\n",
       "        Deliverable_quatity_pct  10d_pct_change  22d_high  22d_low  \n",
       "240264                    53.66        0.100509     726.8   635.35  \n",
       "240265                    48.71        0.088317     726.8   635.35  \n",
       "240266                    43.20        0.093678     726.8   635.35  \n",
       "240267                    45.10        0.115651     726.8   636.50  \n",
       "240268                    37.92        0.117337     726.8   633.05  "
      ]
     },
     "execution_count": 119,
     "metadata": {},
     "output_type": "execute_result"
    }
   ],
   "source": [
    "all_scripts_df[(all_scripts_df['22d_high'] >= 1.1 * all_scripts_df['Close']) \n",
    "             & (all_scripts_df['22d_low'] >= 0.97 *  all_scripts_df['Close'])].tail()"
   ]
  },
  {
   "cell_type": "code",
   "execution_count": 123,
   "metadata": {},
   "outputs": [
    {
     "data": {
      "text/html": [
       "<div>\n",
       "<style scoped>\n",
       "    .dataframe tbody tr th:only-of-type {\n",
       "        vertical-align: middle;\n",
       "    }\n",
       "\n",
       "    .dataframe tbody tr th {\n",
       "        vertical-align: top;\n",
       "    }\n",
       "\n",
       "    .dataframe thead th {\n",
       "        text-align: right;\n",
       "    }\n",
       "</style>\n",
       "<table border=\"1\" class=\"dataframe\">\n",
       "  <thead>\n",
       "    <tr style=\"text-align: right;\">\n",
       "      <th></th>\n",
       "      <th>Date</th>\n",
       "      <th>Symbol</th>\n",
       "      <th>Open</th>\n",
       "      <th>High</th>\n",
       "      <th>Low</th>\n",
       "      <th>Last</th>\n",
       "      <th>Close</th>\n",
       "      <th>Average</th>\n",
       "      <th>Volume</th>\n",
       "      <th>Turnover</th>\n",
       "      <th>Trades</th>\n",
       "      <th>Deliverable_quatity</th>\n",
       "      <th>Deliverable_quatity_pct</th>\n",
       "      <th>10d_pct_change</th>\n",
       "      <th>22d_high</th>\n",
       "      <th>22d_low</th>\n",
       "    </tr>\n",
       "  </thead>\n",
       "  <tbody>\n",
       "    <tr>\n",
       "      <th>240217</th>\n",
       "      <td>2021-10-01</td>\n",
       "      <td>WIPRO</td>\n",
       "      <td>634.80</td>\n",
       "      <td>639.75</td>\n",
       "      <td>630.20</td>\n",
       "      <td>636.00</td>\n",
       "      <td>636.25</td>\n",
       "      <td>635.17</td>\n",
       "      <td>4208854</td>\n",
       "      <td>2.673343e+09</td>\n",
       "      <td>97991.0</td>\n",
       "      <td>1471892</td>\n",
       "      <td>34.97</td>\n",
       "      <td>0.162829</td>\n",
       "      <td>739.85</td>\n",
       "      <td>634.05</td>\n",
       "    </tr>\n",
       "    <tr>\n",
       "      <th>240218</th>\n",
       "      <td>2021-10-04</td>\n",
       "      <td>WIPRO</td>\n",
       "      <td>639.90</td>\n",
       "      <td>643.60</td>\n",
       "      <td>635.95</td>\n",
       "      <td>643.35</td>\n",
       "      <td>641.05</td>\n",
       "      <td>638.84</td>\n",
       "      <td>5247122</td>\n",
       "      <td>3.352074e+09</td>\n",
       "      <td>122772.0</td>\n",
       "      <td>2903508</td>\n",
       "      <td>55.34</td>\n",
       "      <td>0.154122</td>\n",
       "      <td>739.85</td>\n",
       "      <td>634.05</td>\n",
       "    </tr>\n",
       "    <tr>\n",
       "      <th>240220</th>\n",
       "      <td>2021-10-06</td>\n",
       "      <td>WIPRO</td>\n",
       "      <td>650.40</td>\n",
       "      <td>650.45</td>\n",
       "      <td>634.40</td>\n",
       "      <td>635.40</td>\n",
       "      <td>635.75</td>\n",
       "      <td>640.73</td>\n",
       "      <td>4836599</td>\n",
       "      <td>3.098930e+09</td>\n",
       "      <td>118313.0</td>\n",
       "      <td>2266980</td>\n",
       "      <td>46.87</td>\n",
       "      <td>0.163744</td>\n",
       "      <td>739.85</td>\n",
       "      <td>635.00</td>\n",
       "    </tr>\n",
       "    <tr>\n",
       "      <th>240221</th>\n",
       "      <td>2021-10-07</td>\n",
       "      <td>WIPRO</td>\n",
       "      <td>639.00</td>\n",
       "      <td>648.55</td>\n",
       "      <td>636.90</td>\n",
       "      <td>643.80</td>\n",
       "      <td>642.95</td>\n",
       "      <td>643.86</td>\n",
       "      <td>3724343</td>\n",
       "      <td>2.397969e+09</td>\n",
       "      <td>84656.0</td>\n",
       "      <td>1537354</td>\n",
       "      <td>41.28</td>\n",
       "      <td>0.150712</td>\n",
       "      <td>739.85</td>\n",
       "      <td>635.00</td>\n",
       "    </tr>\n",
       "    <tr>\n",
       "      <th>240260</th>\n",
       "      <td>2021-12-06</td>\n",
       "      <td>WIPRO</td>\n",
       "      <td>637.25</td>\n",
       "      <td>644.20</td>\n",
       "      <td>623.15</td>\n",
       "      <td>624.60</td>\n",
       "      <td>624.50</td>\n",
       "      <td>631.19</td>\n",
       "      <td>4704953</td>\n",
       "      <td>2.969720e+09</td>\n",
       "      <td>101023.0</td>\n",
       "      <td>2226869</td>\n",
       "      <td>47.33</td>\n",
       "      <td>0.084868</td>\n",
       "      <td>726.80</td>\n",
       "      <td>623.00</td>\n",
       "    </tr>\n",
       "  </tbody>\n",
       "</table>\n",
       "</div>"
      ],
      "text/plain": [
       "             Date Symbol    Open    High     Low    Last   Close  Average  \\\n",
       "240217 2021-10-01  WIPRO  634.80  639.75  630.20  636.00  636.25   635.17   \n",
       "240218 2021-10-04  WIPRO  639.90  643.60  635.95  643.35  641.05   638.84   \n",
       "240220 2021-10-06  WIPRO  650.40  650.45  634.40  635.40  635.75   640.73   \n",
       "240221 2021-10-07  WIPRO  639.00  648.55  636.90  643.80  642.95   643.86   \n",
       "240260 2021-12-06  WIPRO  637.25  644.20  623.15  624.60  624.50   631.19   \n",
       "\n",
       "         Volume      Turnover    Trades  Deliverable_quatity  \\\n",
       "240217  4208854  2.673343e+09   97991.0              1471892   \n",
       "240218  5247122  3.352074e+09  122772.0              2903508   \n",
       "240220  4836599  3.098930e+09  118313.0              2266980   \n",
       "240221  3724343  2.397969e+09   84656.0              1537354   \n",
       "240260  4704953  2.969720e+09  101023.0              2226869   \n",
       "\n",
       "        Deliverable_quatity_pct  10d_pct_change  22d_high  22d_low  \n",
       "240217                    34.97        0.162829    739.85   634.05  \n",
       "240218                    55.34        0.154122    739.85   634.05  \n",
       "240220                    46.87        0.163744    739.85   635.00  \n",
       "240221                    41.28        0.150712    739.85   635.00  \n",
       "240260                    47.33        0.084868    726.80   623.00  "
      ]
     },
     "execution_count": 123,
     "metadata": {},
     "output_type": "execute_result"
    }
   ],
   "source": [
    "all_scripts_df[(all_scripts_df['22d_high'] >= 1.15 * all_scripts_df['Close']) \n",
    "             & (all_scripts_df['22d_low'] >= 0.95 *  all_scripts_df['Close'])].tail()"
   ]
  },
  {
   "cell_type": "code",
   "execution_count": 129,
   "metadata": {},
   "outputs": [
    {
     "data": {
      "text/html": [
       "<div>\n",
       "<style scoped>\n",
       "    .dataframe tbody tr th:only-of-type {\n",
       "        vertical-align: middle;\n",
       "    }\n",
       "\n",
       "    .dataframe tbody tr th {\n",
       "        vertical-align: top;\n",
       "    }\n",
       "\n",
       "    .dataframe thead th {\n",
       "        text-align: right;\n",
       "    }\n",
       "</style>\n",
       "<table border=\"1\" class=\"dataframe\">\n",
       "  <thead>\n",
       "    <tr style=\"text-align: right;\">\n",
       "      <th></th>\n",
       "      <th>Symbol</th>\n",
       "      <th>Date</th>\n",
       "      <th>Close</th>\n",
       "    </tr>\n",
       "  </thead>\n",
       "  <tbody>\n",
       "    <tr>\n",
       "      <th>0</th>\n",
       "      <td>ADANIPORTS</td>\n",
       "      <td>2007-11-27</td>\n",
       "      <td>192.58</td>\n",
       "    </tr>\n",
       "    <tr>\n",
       "      <th>1</th>\n",
       "      <td>ADANIPORTS</td>\n",
       "      <td>2007-11-28</td>\n",
       "      <td>178.78</td>\n",
       "    </tr>\n",
       "    <tr>\n",
       "      <th>2</th>\n",
       "      <td>ADANIPORTS</td>\n",
       "      <td>2007-11-29</td>\n",
       "      <td>176.84</td>\n",
       "    </tr>\n",
       "    <tr>\n",
       "      <th>3</th>\n",
       "      <td>ADANIPORTS</td>\n",
       "      <td>2007-11-30</td>\n",
       "      <td>184.31</td>\n",
       "    </tr>\n",
       "    <tr>\n",
       "      <th>4</th>\n",
       "      <td>ADANIPORTS</td>\n",
       "      <td>2007-12-03</td>\n",
       "      <td>193.86</td>\n",
       "    </tr>\n",
       "    <tr>\n",
       "      <th>5</th>\n",
       "      <td>ADANIPORTS</td>\n",
       "      <td>2007-12-04</td>\n",
       "      <td>208.29</td>\n",
       "    </tr>\n",
       "    <tr>\n",
       "      <th>6</th>\n",
       "      <td>ADANIPORTS</td>\n",
       "      <td>2007-12-05</td>\n",
       "      <td>216.49</td>\n",
       "    </tr>\n",
       "    <tr>\n",
       "      <th>7</th>\n",
       "      <td>ADANIPORTS</td>\n",
       "      <td>2007-12-06</td>\n",
       "      <td>216.26</td>\n",
       "    </tr>\n",
       "    <tr>\n",
       "      <th>8</th>\n",
       "      <td>ADANIPORTS</td>\n",
       "      <td>2007-12-07</td>\n",
       "      <td>220.48</td>\n",
       "    </tr>\n",
       "    <tr>\n",
       "      <th>9</th>\n",
       "      <td>ADANIPORTS</td>\n",
       "      <td>2007-12-10</td>\n",
       "      <td>215.08</td>\n",
       "    </tr>\n",
       "    <tr>\n",
       "      <th>10</th>\n",
       "      <td>ADANIPORTS</td>\n",
       "      <td>2007-12-11</td>\n",
       "      <td>209.53</td>\n",
       "    </tr>\n",
       "  </tbody>\n",
       "</table>\n",
       "</div>"
      ],
      "text/plain": [
       "        Symbol       Date   Close\n",
       "0   ADANIPORTS 2007-11-27  192.58\n",
       "1   ADANIPORTS 2007-11-28  178.78\n",
       "2   ADANIPORTS 2007-11-29  176.84\n",
       "3   ADANIPORTS 2007-11-30  184.31\n",
       "4   ADANIPORTS 2007-12-03  193.86\n",
       "5   ADANIPORTS 2007-12-04  208.29\n",
       "6   ADANIPORTS 2007-12-05  216.49\n",
       "7   ADANIPORTS 2007-12-06  216.26\n",
       "8   ADANIPORTS 2007-12-07  220.48\n",
       "9   ADANIPORTS 2007-12-10  215.08\n",
       "10  ADANIPORTS 2007-12-11  209.53"
      ]
     },
     "execution_count": 129,
     "metadata": {},
     "output_type": "execute_result"
    }
   ],
   "source": [
    "all_scripts_df[['Symbol','Date','Close']].head(11)"
   ]
  },
  {
   "cell_type": "code",
   "execution_count": 132,
   "metadata": {},
   "outputs": [
    {
     "ename": "ImportError",
     "evalue": "matplotlib is required for plotting when the default backend \"matplotlib\" is selected.",
     "output_type": "error",
     "traceback": [
      "\u001b[1;31m---------------------------------------------------------------------------\u001b[0m",
      "\u001b[1;31mImportError\u001b[0m                               Traceback (most recent call last)",
      "\u001b[1;32m<ipython-input-132-39210a1fbca7>\u001b[0m in \u001b[0;36m<module>\u001b[1;34m\u001b[0m\n\u001b[1;32m----> 1\u001b[1;33m \u001b[0mall_scripts_df\u001b[0m\u001b[1;33m.\u001b[0m\u001b[0mgroupby\u001b[0m\u001b[1;33m(\u001b[0m\u001b[1;34m'Symbol'\u001b[0m\u001b[1;33m)\u001b[0m\u001b[1;33m[\u001b[0m\u001b[1;34m'Close'\u001b[0m\u001b[1;33m]\u001b[0m\u001b[1;33m.\u001b[0m\u001b[0mpct_change\u001b[0m\u001b[1;33m(\u001b[0m\u001b[0mperiods\u001b[0m\u001b[1;33m=\u001b[0m\u001b[1;36m10\u001b[0m\u001b[1;33m)\u001b[0m\u001b[1;33m.\u001b[0m\u001b[0mhist\u001b[0m\u001b[1;33m(\u001b[0m\u001b[1;33m)\u001b[0m\u001b[1;33m\u001b[0m\u001b[1;33m\u001b[0m\u001b[0m\n\u001b[0m",
      "\u001b[1;32m~\\anaconda3\\envs\\NSE Price Prediction\\lib\\site-packages\\pandas\\plotting\\_core.py\u001b[0m in \u001b[0;36mhist_series\u001b[1;34m(self, by, ax, grid, xlabelsize, xrot, ylabelsize, yrot, figsize, bins, backend, legend, **kwargs)\u001b[0m\n\u001b[0;32m     82\u001b[0m     \u001b[0mmatplotlib\u001b[0m\u001b[1;33m.\u001b[0m\u001b[0maxes\u001b[0m\u001b[1;33m.\u001b[0m\u001b[0mAxes\u001b[0m\u001b[1;33m.\u001b[0m\u001b[0mhist\u001b[0m \u001b[1;33m:\u001b[0m \u001b[0mPlot\u001b[0m \u001b[0ma\u001b[0m \u001b[0mhistogram\u001b[0m \u001b[0musing\u001b[0m \u001b[0mmatplotlib\u001b[0m\u001b[1;33m.\u001b[0m\u001b[1;33m\u001b[0m\u001b[1;33m\u001b[0m\u001b[0m\n\u001b[0;32m     83\u001b[0m     \"\"\"\n\u001b[1;32m---> 84\u001b[1;33m     \u001b[0mplot_backend\u001b[0m \u001b[1;33m=\u001b[0m \u001b[0m_get_plot_backend\u001b[0m\u001b[1;33m(\u001b[0m\u001b[0mbackend\u001b[0m\u001b[1;33m)\u001b[0m\u001b[1;33m\u001b[0m\u001b[1;33m\u001b[0m\u001b[0m\n\u001b[0m\u001b[0;32m     85\u001b[0m     return plot_backend.hist_series(\n\u001b[0;32m     86\u001b[0m         \u001b[0mself\u001b[0m\u001b[1;33m,\u001b[0m\u001b[1;33m\u001b[0m\u001b[1;33m\u001b[0m\u001b[0m\n",
      "\u001b[1;32m~\\anaconda3\\envs\\NSE Price Prediction\\lib\\site-packages\\pandas\\plotting\\_core.py\u001b[0m in \u001b[0;36m_get_plot_backend\u001b[1;34m(backend)\u001b[0m\n\u001b[0;32m   1778\u001b[0m             \u001b[1;32mimport\u001b[0m \u001b[0mpandas\u001b[0m\u001b[1;33m.\u001b[0m\u001b[0mplotting\u001b[0m\u001b[1;33m.\u001b[0m\u001b[0m_matplotlib\u001b[0m \u001b[1;32mas\u001b[0m \u001b[0mmodule\u001b[0m\u001b[1;33m\u001b[0m\u001b[1;33m\u001b[0m\u001b[0m\n\u001b[0;32m   1779\u001b[0m         \u001b[1;32mexcept\u001b[0m \u001b[0mImportError\u001b[0m\u001b[1;33m:\u001b[0m\u001b[1;33m\u001b[0m\u001b[1;33m\u001b[0m\u001b[0m\n\u001b[1;32m-> 1780\u001b[1;33m             raise ImportError(\n\u001b[0m\u001b[0;32m   1781\u001b[0m                 \u001b[1;34m\"matplotlib is required for plotting when the \"\u001b[0m\u001b[1;33m\u001b[0m\u001b[1;33m\u001b[0m\u001b[0m\n\u001b[0;32m   1782\u001b[0m                 \u001b[1;34m'default backend \"matplotlib\" is selected.'\u001b[0m\u001b[1;33m\u001b[0m\u001b[1;33m\u001b[0m\u001b[0m\n",
      "\u001b[1;31mImportError\u001b[0m: matplotlib is required for plotting when the default backend \"matplotlib\" is selected."
     ]
    }
   ],
   "source": [
    "all_scripts_df.groupby('Symbol')['Close'].pct_change(periods=10).hist()"
   ]
  },
  {
   "cell_type": "code",
   "execution_count": 102,
   "metadata": {},
   "outputs": [
    {
     "data": {
      "text/plain": [
       "(240148, 16)"
      ]
     },
     "execution_count": 102,
     "metadata": {},
     "output_type": "execute_result"
    }
   ],
   "source": [
    "all_scripts_df.shape"
   ]
  },
  {
   "cell_type": "code",
   "execution_count": null,
   "metadata": {},
   "outputs": [],
   "source": [
    "high>211 & low>=186"
   ]
  },
  {
   "cell_type": "code",
   "execution_count": null,
   "metadata": {},
   "outputs": [],
   "source": [
    "192.58 259 168.2"
   ]
  },
  {
   "cell_type": "code",
   "execution_count": 84,
   "metadata": {},
   "outputs": [
    {
     "data": {
      "text/plain": [
       "(240148, 16)"
      ]
     },
     "execution_count": 84,
     "metadata": {},
     "output_type": "execute_result"
    }
   ],
   "source": [
    "all_scripts_df.shape"
   ]
  },
  {
   "cell_type": "code",
   "execution_count": 34,
   "metadata": {},
   "outputs": [
    {
     "data": {
      "text/plain": [
       "0.02660563816871786"
      ]
     },
     "execution_count": 34,
     "metadata": {},
     "output_type": "execute_result"
    }
   ],
   "source": [
    "np.log(259) - np.log(252.2)"
   ]
  },
  {
   "cell_type": "code",
   "execution_count": 39,
   "metadata": {},
   "outputs": [
    {
     "data": {
      "text/plain": [
       "0.2876820724517817"
      ]
     },
     "execution_count": 39,
     "metadata": {},
     "output_type": "execute_result"
    }
   ],
   "source": [
    "np.log(100) - np.log(75)"
   ]
  },
  {
   "cell_type": "code",
   "execution_count": null,
   "metadata": {},
   "outputs": [],
   "source": [
    "all_scripts_df.High.idxmax"
   ]
  },
  {
   "cell_type": "code",
   "execution_count": 73,
   "metadata": {},
   "outputs": [
    {
     "ename": "AttributeError",
     "evalue": "'RollingGroupby' object has no attribute 'idxmax'",
     "output_type": "error",
     "traceback": [
      "\u001b[1;31m---------------------------------------------------------------------------\u001b[0m",
      "\u001b[1;31mAttributeError\u001b[0m                            Traceback (most recent call last)",
      "\u001b[1;32m<ipython-input-73-6bf0fe9c5f39>\u001b[0m in \u001b[0;36m<module>\u001b[1;34m\u001b[0m\n\u001b[1;32m----> 1\u001b[1;33m \u001b[0mall_scripts_df\u001b[0m\u001b[1;33m.\u001b[0m\u001b[0mgroupby\u001b[0m\u001b[1;33m(\u001b[0m\u001b[1;34m'Symbol'\u001b[0m\u001b[1;33m)\u001b[0m\u001b[1;33m.\u001b[0m\u001b[0mrolling\u001b[0m\u001b[1;33m(\u001b[0m\u001b[1;36m22\u001b[0m\u001b[1;33m)\u001b[0m\u001b[1;33m[\u001b[0m\u001b[1;34m'High'\u001b[0m\u001b[1;33m]\u001b[0m\u001b[1;33m.\u001b[0m\u001b[0midxmax\u001b[0m\u001b[1;33m(\u001b[0m\u001b[1;33m)\u001b[0m\u001b[1;33m\u001b[0m\u001b[1;33m\u001b[0m\u001b[0m\n\u001b[0m",
      "\u001b[1;32m~\\anaconda3\\envs\\NSE Price Prediction\\lib\\site-packages\\pandas\\core\\window\\rolling.py\u001b[0m in \u001b[0;36m__getattr__\u001b[1;34m(self, attr)\u001b[0m\n\u001b[0;32m    260\u001b[0m             \u001b[1;32mreturn\u001b[0m \u001b[0mself\u001b[0m\u001b[1;33m[\u001b[0m\u001b[0mattr\u001b[0m\u001b[1;33m]\u001b[0m\u001b[1;33m\u001b[0m\u001b[1;33m\u001b[0m\u001b[0m\n\u001b[0;32m    261\u001b[0m \u001b[1;33m\u001b[0m\u001b[0m\n\u001b[1;32m--> 262\u001b[1;33m         raise AttributeError(\n\u001b[0m\u001b[0;32m    263\u001b[0m             \u001b[1;34mf\"'{type(self).__name__}' object has no attribute '{attr}'\"\u001b[0m\u001b[1;33m\u001b[0m\u001b[1;33m\u001b[0m\u001b[0m\n\u001b[0;32m    264\u001b[0m         )\n",
      "\u001b[1;31mAttributeError\u001b[0m: 'RollingGroupby' object has no attribute 'idxmax'"
     ]
    }
   ],
   "source": [
    "all_scripts_df.groupby('Symbol').rolling(22)['High'].idxmax()"
   ]
  },
  {
   "cell_type": "code",
   "execution_count": 41,
   "metadata": {},
   "outputs": [
    {
     "data": {
      "text/plain": [
       "0.0013995803544233354"
      ]
     },
     "execution_count": 41,
     "metadata": {},
     "output_type": "execute_result"
    }
   ],
   "source": [
    "np.log(3.575) - np.log(3.570)"
   ]
  },
  {
   "cell_type": "code",
   "execution_count": 46,
   "metadata": {},
   "outputs": [
    {
     "ename": "AttributeError",
     "evalue": "'list' object has no attribute 'rolling'",
     "output_type": "error",
     "traceback": [
      "\u001b[1;31m---------------------------------------------------------------------------\u001b[0m",
      "\u001b[1;31mAttributeError\u001b[0m                            Traceback (most recent call last)",
      "\u001b[1;32m<ipython-input-46-56b76802fa2d>\u001b[0m in \u001b[0;36m<module>\u001b[1;34m\u001b[0m\n\u001b[1;32m----> 1\u001b[1;33m \u001b[0mall_scripts_df\u001b[0m\u001b[1;33m.\u001b[0m\u001b[0mloc\u001b[0m\u001b[1;33m[\u001b[0m\u001b[0mall_scripts_df\u001b[0m\u001b[1;33m.\u001b[0m\u001b[0mreset_index\u001b[0m\u001b[1;33m(\u001b[0m\u001b[1;33m)\u001b[0m\u001b[1;33m.\u001b[0m\u001b[0mgroupby\u001b[0m\u001b[1;33m(\u001b[0m\u001b[1;33m[\u001b[0m\u001b[1;34m'Symbol'\u001b[0m\u001b[1;33m]\u001b[0m\u001b[1;33m.\u001b[0m\u001b[0mrolling\u001b[0m\u001b[1;33m(\u001b[0m\u001b[1;36m22\u001b[0m\u001b[1;33m)\u001b[0m\u001b[1;33m)\u001b[0m\u001b[1;33m[\u001b[0m\u001b[1;34m'High'\u001b[0m\u001b[1;33m]\u001b[0m\u001b[1;33m.\u001b[0m\u001b[0midxmax\u001b[0m\u001b[1;33m(\u001b[0m\u001b[1;33m)\u001b[0m\u001b[1;33m]\u001b[0m\u001b[1;33m\u001b[0m\u001b[1;33m\u001b[0m\u001b[0m\n\u001b[0m",
      "\u001b[1;31mAttributeError\u001b[0m: 'list' object has no attribute 'rolling'"
     ]
    }
   ],
   "source": [
    "all_scripts_df.loc[all_scripts_df.reset_index().groupby(['Symbol'].rolling(22))['High'].idxmax()]"
   ]
  },
  {
   "cell_type": "code",
   "execution_count": 71,
   "metadata": {},
   "outputs": [],
   "source": [
    "ap_df = all_scripts_df[all_scripts_df.Symbol=='ADANIPORTS']"
   ]
  },
  {
   "cell_type": "code",
   "execution_count": 77,
   "metadata": {},
   "outputs": [
    {
     "data": {
      "text/plain": [
       "0         NaN\n",
       "1         NaN\n",
       "2         NaN\n",
       "3         NaN\n",
       "4         NaN\n",
       "        ...  \n",
       "3500    774.9\n",
       "3501    776.0\n",
       "3502    795.0\n",
       "3503    795.0\n",
       "3504    795.0\n",
       "Name: High, Length: 3502, dtype: float64"
      ]
     },
     "execution_count": 77,
     "metadata": {},
     "output_type": "execute_result"
    }
   ],
   "source": [
    "ap_df.High.rolling(10).max()"
   ]
  },
  {
   "cell_type": "code",
   "execution_count": 72,
   "metadata": {},
   "outputs": [
    {
     "data": {
      "text/html": [
       "<div>\n",
       "<style scoped>\n",
       "    .dataframe tbody tr th:only-of-type {\n",
       "        vertical-align: middle;\n",
       "    }\n",
       "\n",
       "    .dataframe tbody tr th {\n",
       "        vertical-align: top;\n",
       "    }\n",
       "\n",
       "    .dataframe thead th {\n",
       "        text-align: right;\n",
       "    }\n",
       "</style>\n",
       "<table border=\"1\" class=\"dataframe\">\n",
       "  <thead>\n",
       "    <tr style=\"text-align: right;\">\n",
       "      <th></th>\n",
       "      <th>Date</th>\n",
       "      <th>Symbol</th>\n",
       "      <th>Open</th>\n",
       "      <th>High</th>\n",
       "      <th>Low</th>\n",
       "      <th>Last</th>\n",
       "      <th>Close</th>\n",
       "      <th>Average</th>\n",
       "      <th>Volume</th>\n",
       "      <th>Turnover</th>\n",
       "      <th>Trades</th>\n",
       "      <th>Deliverable_quatity</th>\n",
       "      <th>Deliverable_quatity_pct</th>\n",
       "      <th>10d_pct_change</th>\n",
       "      <th>22d_high</th>\n",
       "      <th>22d_low</th>\n",
       "    </tr>\n",
       "  </thead>\n",
       "  <tbody>\n",
       "    <tr>\n",
       "      <th>0</th>\n",
       "      <td>2007-11-27</td>\n",
       "      <td>ADANIPORTS</td>\n",
       "      <td>154.00</td>\n",
       "      <td>210.00</td>\n",
       "      <td>154.0</td>\n",
       "      <td>191.8</td>\n",
       "      <td>192.58</td>\n",
       "      <td>196.944</td>\n",
       "      <td>27294366</td>\n",
       "      <td>2.687719e+10</td>\n",
       "      <td>2.729684e+07</td>\n",
       "      <td>9859619</td>\n",
       "      <td>36.12</td>\n",
       "      <td>0.177692</td>\n",
       "      <td>259.0</td>\n",
       "      <td>252.20</td>\n",
       "    </tr>\n",
       "    <tr>\n",
       "      <th>1</th>\n",
       "      <td>2007-11-28</td>\n",
       "      <td>ADANIPORTS</td>\n",
       "      <td>196.80</td>\n",
       "      <td>198.00</td>\n",
       "      <td>174.8</td>\n",
       "      <td>177.0</td>\n",
       "      <td>178.78</td>\n",
       "      <td>188.276</td>\n",
       "      <td>4581338</td>\n",
       "      <td>4.312765e+09</td>\n",
       "      <td>4.581583e+06</td>\n",
       "      <td>1453278</td>\n",
       "      <td>31.72</td>\n",
       "      <td>0.268598</td>\n",
       "      <td>263.8</td>\n",
       "      <td>252.74</td>\n",
       "    </tr>\n",
       "    <tr>\n",
       "      <th>2</th>\n",
       "      <td>2007-11-29</td>\n",
       "      <td>ADANIPORTS</td>\n",
       "      <td>181.80</td>\n",
       "      <td>182.95</td>\n",
       "      <td>168.2</td>\n",
       "      <td>177.4</td>\n",
       "      <td>176.84</td>\n",
       "      <td>177.618</td>\n",
       "      <td>5124121</td>\n",
       "      <td>4.550658e+09</td>\n",
       "      <td>5.122979e+06</td>\n",
       "      <td>1069678</td>\n",
       "      <td>20.88</td>\n",
       "      <td>0.300611</td>\n",
       "      <td>264.8</td>\n",
       "      <td>254.00</td>\n",
       "    </tr>\n",
       "    <tr>\n",
       "      <th>3</th>\n",
       "      <td>2007-11-30</td>\n",
       "      <td>ADANIPORTS</td>\n",
       "      <td>178.00</td>\n",
       "      <td>191.60</td>\n",
       "      <td>178.0</td>\n",
       "      <td>185.8</td>\n",
       "      <td>184.31</td>\n",
       "      <td>185.834</td>\n",
       "      <td>4609762</td>\n",
       "      <td>4.283257e+09</td>\n",
       "      <td>4.610285e+06</td>\n",
       "      <td>1260913</td>\n",
       "      <td>27.35</td>\n",
       "      <td>0.247898</td>\n",
       "      <td>264.8</td>\n",
       "      <td>254.00</td>\n",
       "    </tr>\n",
       "    <tr>\n",
       "      <th>4</th>\n",
       "      <td>2007-12-03</td>\n",
       "      <td>ADANIPORTS</td>\n",
       "      <td>187.95</td>\n",
       "      <td>199.00</td>\n",
       "      <td>184.4</td>\n",
       "      <td>196.0</td>\n",
       "      <td>193.86</td>\n",
       "      <td>193.130</td>\n",
       "      <td>2977470</td>\n",
       "      <td>2.875200e+09</td>\n",
       "      <td>2.977464e+06</td>\n",
       "      <td>816123</td>\n",
       "      <td>27.41</td>\n",
       "      <td>0.204993</td>\n",
       "      <td>264.8</td>\n",
       "      <td>254.00</td>\n",
       "    </tr>\n",
       "  </tbody>\n",
       "</table>\n",
       "</div>"
      ],
      "text/plain": [
       "        Date      Symbol    Open    High    Low   Last   Close  Average  \\\n",
       "0 2007-11-27  ADANIPORTS  154.00  210.00  154.0  191.8  192.58  196.944   \n",
       "1 2007-11-28  ADANIPORTS  196.80  198.00  174.8  177.0  178.78  188.276   \n",
       "2 2007-11-29  ADANIPORTS  181.80  182.95  168.2  177.4  176.84  177.618   \n",
       "3 2007-11-30  ADANIPORTS  178.00  191.60  178.0  185.8  184.31  185.834   \n",
       "4 2007-12-03  ADANIPORTS  187.95  199.00  184.4  196.0  193.86  193.130   \n",
       "\n",
       "     Volume      Turnover        Trades  Deliverable_quatity  \\\n",
       "0  27294366  2.687719e+10  2.729684e+07              9859619   \n",
       "1   4581338  4.312765e+09  4.581583e+06              1453278   \n",
       "2   5124121  4.550658e+09  5.122979e+06              1069678   \n",
       "3   4609762  4.283257e+09  4.610285e+06              1260913   \n",
       "4   2977470  2.875200e+09  2.977464e+06               816123   \n",
       "\n",
       "   Deliverable_quatity_pct  10d_pct_change  22d_high  22d_low  \n",
       "0                    36.12        0.177692     259.0   252.20  \n",
       "1                    31.72        0.268598     263.8   252.74  \n",
       "2                    20.88        0.300611     264.8   254.00  \n",
       "3                    27.35        0.247898     264.8   254.00  \n",
       "4                    27.41        0.204993     264.8   254.00  "
      ]
     },
     "execution_count": 72,
     "metadata": {},
     "output_type": "execute_result"
    }
   ],
   "source": [
    "ap_df.head()"
   ]
  },
  {
   "cell_type": "code",
   "execution_count": 68,
   "metadata": {},
   "outputs": [
    {
     "data": {
      "text/html": [
       "<div>\n",
       "<style scoped>\n",
       "    .dataframe tbody tr th:only-of-type {\n",
       "        vertical-align: middle;\n",
       "    }\n",
       "\n",
       "    .dataframe tbody tr th {\n",
       "        vertical-align: top;\n",
       "    }\n",
       "\n",
       "    .dataframe thead th {\n",
       "        text-align: right;\n",
       "    }\n",
       "</style>\n",
       "<table border=\"1\" class=\"dataframe\">\n",
       "  <thead>\n",
       "    <tr style=\"text-align: right;\">\n",
       "      <th></th>\n",
       "      <th>A</th>\n",
       "      <th>B</th>\n",
       "      <th>C</th>\n",
       "      <th>D</th>\n",
       "    </tr>\n",
       "  </thead>\n",
       "  <tbody>\n",
       "    <tr>\n",
       "      <th>2000-01-01</th>\n",
       "      <td>-0.537619</td>\n",
       "      <td>-2.176708</td>\n",
       "      <td>-0.770041</td>\n",
       "      <td>1.277500</td>\n",
       "    </tr>\n",
       "    <tr>\n",
       "      <th>2000-01-02</th>\n",
       "      <td>-1.105249</td>\n",
       "      <td>-0.527119</td>\n",
       "      <td>-0.585553</td>\n",
       "      <td>0.797643</td>\n",
       "    </tr>\n",
       "    <tr>\n",
       "      <th>2000-01-03</th>\n",
       "      <td>-0.578591</td>\n",
       "      <td>0.108156</td>\n",
       "      <td>-1.951783</td>\n",
       "      <td>0.421310</td>\n",
       "    </tr>\n",
       "    <tr>\n",
       "      <th>2000-01-04</th>\n",
       "      <td>-1.582054</td>\n",
       "      <td>-0.682781</td>\n",
       "      <td>-0.508421</td>\n",
       "      <td>-0.514433</td>\n",
       "    </tr>\n",
       "    <tr>\n",
       "      <th>2000-01-05</th>\n",
       "      <td>-2.427668</td>\n",
       "      <td>-0.534117</td>\n",
       "      <td>1.368457</td>\n",
       "      <td>1.158240</td>\n",
       "    </tr>\n",
       "  </tbody>\n",
       "</table>\n",
       "</div>"
      ],
      "text/plain": [
       "                   A         B         C         D\n",
       "2000-01-01 -0.537619 -2.176708 -0.770041  1.277500\n",
       "2000-01-02 -1.105249 -0.527119 -0.585553  0.797643\n",
       "2000-01-03 -0.578591  0.108156 -1.951783  0.421310\n",
       "2000-01-04 -1.582054 -0.682781 -0.508421 -0.514433\n",
       "2000-01-05 -2.427668 -0.534117  1.368457  1.158240"
      ]
     },
     "execution_count": 68,
     "metadata": {},
     "output_type": "execute_result"
    }
   ],
   "source": [
    "test_df.head()"
   ]
  },
  {
   "cell_type": "code",
   "execution_count": null,
   "metadata": {},
   "outputs": [],
   "source": []
  },
  {
   "cell_type": "code",
   "execution_count": 69,
   "metadata": {},
   "outputs": [
    {
     "data": {
      "text/html": [
       "<div>\n",
       "<style scoped>\n",
       "    .dataframe tbody tr th:only-of-type {\n",
       "        vertical-align: middle;\n",
       "    }\n",
       "\n",
       "    .dataframe tbody tr th {\n",
       "        vertical-align: top;\n",
       "    }\n",
       "\n",
       "    .dataframe thead th {\n",
       "        text-align: right;\n",
       "    }\n",
       "</style>\n",
       "<table border=\"1\" class=\"dataframe\">\n",
       "  <thead>\n",
       "    <tr style=\"text-align: right;\">\n",
       "      <th></th>\n",
       "      <th>B</th>\n",
       "      <th>C</th>\n",
       "      <th>D</th>\n",
       "    </tr>\n",
       "    <tr>\n",
       "      <th>A</th>\n",
       "      <th></th>\n",
       "      <th></th>\n",
       "      <th></th>\n",
       "    </tr>\n",
       "  </thead>\n",
       "  <tbody>\n",
       "    <tr>\n",
       "      <th>-2.576712</th>\n",
       "      <td>2001-08-30</td>\n",
       "      <td>2001-08-30</td>\n",
       "      <td>2001-08-30</td>\n",
       "    </tr>\n",
       "    <tr>\n",
       "      <th>-2.560948</th>\n",
       "      <td>2000-11-01</td>\n",
       "      <td>2000-11-01</td>\n",
       "      <td>2000-11-01</td>\n",
       "    </tr>\n",
       "    <tr>\n",
       "      <th>-2.539877</th>\n",
       "      <td>2002-05-09</td>\n",
       "      <td>2002-05-09</td>\n",
       "      <td>2002-05-09</td>\n",
       "    </tr>\n",
       "    <tr>\n",
       "      <th>-2.492463</th>\n",
       "      <td>2002-04-05</td>\n",
       "      <td>2002-04-05</td>\n",
       "      <td>2002-04-05</td>\n",
       "    </tr>\n",
       "    <tr>\n",
       "      <th>-2.463545</th>\n",
       "      <td>2000-03-30</td>\n",
       "      <td>2000-03-30</td>\n",
       "      <td>2000-03-30</td>\n",
       "    </tr>\n",
       "    <tr>\n",
       "      <th>...</th>\n",
       "      <td>...</td>\n",
       "      <td>...</td>\n",
       "      <td>...</td>\n",
       "    </tr>\n",
       "    <tr>\n",
       "      <th>2.515836</th>\n",
       "      <td>2002-04-02</td>\n",
       "      <td>2002-04-02</td>\n",
       "      <td>2002-04-02</td>\n",
       "    </tr>\n",
       "    <tr>\n",
       "      <th>2.709847</th>\n",
       "      <td>2000-07-17</td>\n",
       "      <td>2000-07-17</td>\n",
       "      <td>2000-07-17</td>\n",
       "    </tr>\n",
       "    <tr>\n",
       "      <th>2.732829</th>\n",
       "      <td>2000-10-10</td>\n",
       "      <td>2000-10-10</td>\n",
       "      <td>2000-10-10</td>\n",
       "    </tr>\n",
       "    <tr>\n",
       "      <th>2.798618</th>\n",
       "      <td>2000-03-22</td>\n",
       "      <td>2000-03-22</td>\n",
       "      <td>2000-03-22</td>\n",
       "    </tr>\n",
       "    <tr>\n",
       "      <th>2.843388</th>\n",
       "      <td>2002-09-05</td>\n",
       "      <td>2002-09-05</td>\n",
       "      <td>2002-09-05</td>\n",
       "    </tr>\n",
       "  </tbody>\n",
       "</table>\n",
       "<p>1000 rows × 3 columns</p>\n",
       "</div>"
      ],
      "text/plain": [
       "                   B          C          D\n",
       "A                                         \n",
       "-2.576712 2001-08-30 2001-08-30 2001-08-30\n",
       "-2.560948 2000-11-01 2000-11-01 2000-11-01\n",
       "-2.539877 2002-05-09 2002-05-09 2002-05-09\n",
       "-2.492463 2002-04-05 2002-04-05 2002-04-05\n",
       "-2.463545 2000-03-30 2000-03-30 2000-03-30\n",
       "...              ...        ...        ...\n",
       " 2.515836 2002-04-02 2002-04-02 2002-04-02\n",
       " 2.709847 2000-07-17 2000-07-17 2000-07-17\n",
       " 2.732829 2000-10-10 2000-10-10 2000-10-10\n",
       " 2.798618 2000-03-22 2000-03-22 2000-03-22\n",
       " 2.843388 2002-09-05 2002-09-05 2002-09-05\n",
       "\n",
       "[1000 rows x 3 columns]"
      ]
     },
     "execution_count": 69,
     "metadata": {},
     "output_type": "execute_result"
    }
   ],
   "source": [
    "test_df.groupby('A').idxmax()"
   ]
  },
  {
   "cell_type": "code",
   "execution_count": 56,
   "metadata": {},
   "outputs": [
    {
     "ename": "AttributeError",
     "evalue": "module 'pandas' has no attribute 'stats'",
     "output_type": "error",
     "traceback": [
      "\u001b[1;31m---------------------------------------------------------------------------\u001b[0m",
      "\u001b[1;31mAttributeError\u001b[0m                            Traceback (most recent call last)",
      "\u001b[1;32m<ipython-input-56-a58a0d5c5fe7>\u001b[0m in \u001b[0;36m<module>\u001b[1;34m\u001b[0m\n\u001b[1;32m----> 1\u001b[1;33m \u001b[0mpd\u001b[0m\u001b[1;33m.\u001b[0m\u001b[0mstats\u001b[0m\u001b[1;33m.\u001b[0m\u001b[0mmoments\u001b[0m\u001b[1;33m.\u001b[0m\u001b[0mrolling_apply\u001b[0m\u001b[1;33m(\u001b[0m\u001b[0mtest_df\u001b[0m\u001b[1;33m,\u001b[0m\u001b[1;36m30\u001b[0m\u001b[1;33m,\u001b[0m\u001b[1;32mlambda\u001b[0m \u001b[0mx\u001b[0m\u001b[1;33m:\u001b[0m \u001b[0mSeries\u001b[0m\u001b[1;33m(\u001b[0m\u001b[0mx\u001b[0m\u001b[1;33m)\u001b[0m\u001b[1;33m.\u001b[0m\u001b[0midxmax\u001b[0m\u001b[1;33m(\u001b[0m\u001b[1;33m)\u001b[0m\u001b[1;33m)\u001b[0m\u001b[1;33m.\u001b[0m\u001b[0mtail\u001b[0m\u001b[1;33m(\u001b[0m\u001b[1;36m30\u001b[0m\u001b[1;33m)\u001b[0m\u001b[1;33m\u001b[0m\u001b[1;33m\u001b[0m\u001b[0m\n\u001b[0m",
      "\u001b[1;32m~\\anaconda3\\envs\\NSE Price Prediction\\lib\\site-packages\\pandas\\__init__.py\u001b[0m in \u001b[0;36m__getattr__\u001b[1;34m(name)\u001b[0m\n\u001b[0;32m    256\u001b[0m             \u001b[1;32mreturn\u001b[0m \u001b[0m_SparseArray\u001b[0m\u001b[1;33m\u001b[0m\u001b[1;33m\u001b[0m\u001b[0m\n\u001b[0;32m    257\u001b[0m \u001b[1;33m\u001b[0m\u001b[0m\n\u001b[1;32m--> 258\u001b[1;33m         \u001b[1;32mraise\u001b[0m \u001b[0mAttributeError\u001b[0m\u001b[1;33m(\u001b[0m\u001b[1;34mf\"module 'pandas' has no attribute '{name}'\"\u001b[0m\u001b[1;33m)\u001b[0m\u001b[1;33m\u001b[0m\u001b[1;33m\u001b[0m\u001b[0m\n\u001b[0m\u001b[0;32m    259\u001b[0m \u001b[1;33m\u001b[0m\u001b[0m\n\u001b[0;32m    260\u001b[0m \u001b[1;33m\u001b[0m\u001b[0m\n",
      "\u001b[1;31mAttributeError\u001b[0m: module 'pandas' has no attribute 'stats'"
     ]
    }
   ],
   "source": [
    "pd.stats.moments.rolling_apply(test_df,30,lambda x: Series(x).idxmax()).tail(30)"
   ]
  },
  {
   "cell_type": "code",
   "execution_count": 60,
   "metadata": {},
   "outputs": [],
   "source": [
    "df = pd.DataFrame({'A' : range(5), 'B' : pd.timedelta_range('1 day',periods=5), 'C' : 'foo'})\n"
   ]
  },
  {
   "cell_type": "code",
   "execution_count": 61,
   "metadata": {},
   "outputs": [
    {
     "data": {
      "text/html": [
       "<div>\n",
       "<style scoped>\n",
       "    .dataframe tbody tr th:only-of-type {\n",
       "        vertical-align: middle;\n",
       "    }\n",
       "\n",
       "    .dataframe tbody tr th {\n",
       "        vertical-align: top;\n",
       "    }\n",
       "\n",
       "    .dataframe thead th {\n",
       "        text-align: right;\n",
       "    }\n",
       "</style>\n",
       "<table border=\"1\" class=\"dataframe\">\n",
       "  <thead>\n",
       "    <tr style=\"text-align: right;\">\n",
       "      <th></th>\n",
       "      <th>A</th>\n",
       "      <th>B</th>\n",
       "      <th>C</th>\n",
       "    </tr>\n",
       "  </thead>\n",
       "  <tbody>\n",
       "    <tr>\n",
       "      <th>0</th>\n",
       "      <td>0</td>\n",
       "      <td>1 days</td>\n",
       "      <td>foo</td>\n",
       "    </tr>\n",
       "    <tr>\n",
       "      <th>1</th>\n",
       "      <td>1</td>\n",
       "      <td>2 days</td>\n",
       "      <td>foo</td>\n",
       "    </tr>\n",
       "    <tr>\n",
       "      <th>2</th>\n",
       "      <td>2</td>\n",
       "      <td>3 days</td>\n",
       "      <td>foo</td>\n",
       "    </tr>\n",
       "    <tr>\n",
       "      <th>3</th>\n",
       "      <td>3</td>\n",
       "      <td>4 days</td>\n",
       "      <td>foo</td>\n",
       "    </tr>\n",
       "    <tr>\n",
       "      <th>4</th>\n",
       "      <td>4</td>\n",
       "      <td>5 days</td>\n",
       "      <td>foo</td>\n",
       "    </tr>\n",
       "  </tbody>\n",
       "</table>\n",
       "</div>"
      ],
      "text/plain": [
       "   A      B    C\n",
       "0  0 1 days  foo\n",
       "1  1 2 days  foo\n",
       "2  2 3 days  foo\n",
       "3  3 4 days  foo\n",
       "4  4 5 days  foo"
      ]
     },
     "execution_count": 61,
     "metadata": {},
     "output_type": "execute_result"
    }
   ],
   "source": [
    "df"
   ]
  },
  {
   "cell_type": "code",
   "execution_count": 66,
   "metadata": {},
   "outputs": [
    {
     "ename": "AttributeError",
     "evalue": "'Rolling' object has no attribute 'idxmax'",
     "output_type": "error",
     "traceback": [
      "\u001b[1;31m---------------------------------------------------------------------------\u001b[0m",
      "\u001b[1;31mAttributeError\u001b[0m                            Traceback (most recent call last)",
      "\u001b[1;32m<ipython-input-66-22a3623ded39>\u001b[0m in \u001b[0;36m<module>\u001b[1;34m\u001b[0m\n\u001b[1;32m----> 1\u001b[1;33m \u001b[0mdf\u001b[0m\u001b[1;33m.\u001b[0m\u001b[0mrolling\u001b[0m\u001b[1;33m(\u001b[0m\u001b[1;36m2\u001b[0m\u001b[1;33m,\u001b[0m \u001b[0mmin_periods\u001b[0m\u001b[1;33m=\u001b[0m\u001b[1;36m1\u001b[0m\u001b[1;33m)\u001b[0m\u001b[1;33m.\u001b[0m\u001b[0midxmax\u001b[0m\u001b[1;33m(\u001b[0m\u001b[1;33m)\u001b[0m\u001b[1;33m\u001b[0m\u001b[1;33m\u001b[0m\u001b[0m\n\u001b[0m",
      "\u001b[1;32m~\\anaconda3\\envs\\NSE Price Prediction\\lib\\site-packages\\pandas\\core\\window\\rolling.py\u001b[0m in \u001b[0;36m__getattr__\u001b[1;34m(self, attr)\u001b[0m\n\u001b[0;32m    260\u001b[0m             \u001b[1;32mreturn\u001b[0m \u001b[0mself\u001b[0m\u001b[1;33m[\u001b[0m\u001b[0mattr\u001b[0m\u001b[1;33m]\u001b[0m\u001b[1;33m\u001b[0m\u001b[1;33m\u001b[0m\u001b[0m\n\u001b[0;32m    261\u001b[0m \u001b[1;33m\u001b[0m\u001b[0m\n\u001b[1;32m--> 262\u001b[1;33m         raise AttributeError(\n\u001b[0m\u001b[0;32m    263\u001b[0m             \u001b[1;34mf\"'{type(self).__name__}' object has no attribute '{attr}'\"\u001b[0m\u001b[1;33m\u001b[0m\u001b[1;33m\u001b[0m\u001b[0m\n\u001b[0;32m    264\u001b[0m         )\n",
      "\u001b[1;31mAttributeError\u001b[0m: 'Rolling' object has no attribute 'idxmax'"
     ]
    }
   ],
   "source": [
    "df.rolling(2, min_periods=1).idxmax()"
   ]
  },
  {
   "cell_type": "code",
   "execution_count": null,
   "metadata": {},
   "outputs": [],
   "source": [
    "  groupby(keys)[column].idxmax()"
   ]
  },
  {
   "cell_type": "code",
   "execution_count": null,
   "metadata": {},
   "outputs": [],
   "source": [
    "r = df.rolling(2,min_periods=1)\n",
    "r.agg([np.sum,np.mean])"
   ]
  },
  {
   "cell_type": "code",
   "execution_count": 78,
   "metadata": {},
   "outputs": [],
   "source": [
    "df = pd.DataFrame(\n",
    "    {\n",
    "        \"host\": [\"other\", \"other\", \"that\", \"this\", \"this\"],\n",
    "        \"service\": [\"mail\", \"web\", \"mail\", \"mail\", \"web\"],\n",
    "        \"no\": [1, 2, 1, 2, 1],\n",
    "    }\n",
    ").set_index([\"host\", \"service\"])"
   ]
  },
  {
   "cell_type": "code",
   "execution_count": 80,
   "metadata": {},
   "outputs": [],
   "source": [
    "df.reset_index(inplace=True)"
   ]
  },
  {
   "cell_type": "code",
   "execution_count": 81,
   "metadata": {},
   "outputs": [
    {
     "data": {
      "text/html": [
       "<div>\n",
       "<style scoped>\n",
       "    .dataframe tbody tr th:only-of-type {\n",
       "        vertical-align: middle;\n",
       "    }\n",
       "\n",
       "    .dataframe tbody tr th {\n",
       "        vertical-align: top;\n",
       "    }\n",
       "\n",
       "    .dataframe thead th {\n",
       "        text-align: right;\n",
       "    }\n",
       "</style>\n",
       "<table border=\"1\" class=\"dataframe\">\n",
       "  <thead>\n",
       "    <tr style=\"text-align: right;\">\n",
       "      <th></th>\n",
       "      <th>host</th>\n",
       "      <th>service</th>\n",
       "      <th>no</th>\n",
       "    </tr>\n",
       "  </thead>\n",
       "  <tbody>\n",
       "    <tr>\n",
       "      <th>0</th>\n",
       "      <td>other</td>\n",
       "      <td>mail</td>\n",
       "      <td>1</td>\n",
       "    </tr>\n",
       "    <tr>\n",
       "      <th>1</th>\n",
       "      <td>other</td>\n",
       "      <td>web</td>\n",
       "      <td>2</td>\n",
       "    </tr>\n",
       "    <tr>\n",
       "      <th>2</th>\n",
       "      <td>that</td>\n",
       "      <td>mail</td>\n",
       "      <td>1</td>\n",
       "    </tr>\n",
       "    <tr>\n",
       "      <th>3</th>\n",
       "      <td>this</td>\n",
       "      <td>mail</td>\n",
       "      <td>2</td>\n",
       "    </tr>\n",
       "    <tr>\n",
       "      <th>4</th>\n",
       "      <td>this</td>\n",
       "      <td>web</td>\n",
       "      <td>1</td>\n",
       "    </tr>\n",
       "  </tbody>\n",
       "</table>\n",
       "</div>"
      ],
      "text/plain": [
       "    host service  no\n",
       "0  other    mail   1\n",
       "1  other     web   2\n",
       "2   that    mail   1\n",
       "3   this    mail   2\n",
       "4   this     web   1"
      ]
     },
     "execution_count": 81,
     "metadata": {},
     "output_type": "execute_result"
    }
   ],
   "source": [
    "df"
   ]
  },
  {
   "cell_type": "code",
   "execution_count": 82,
   "metadata": {},
   "outputs": [
    {
     "data": {
      "text/html": [
       "<div>\n",
       "<style scoped>\n",
       "    .dataframe tbody tr th:only-of-type {\n",
       "        vertical-align: middle;\n",
       "    }\n",
       "\n",
       "    .dataframe tbody tr th {\n",
       "        vertical-align: top;\n",
       "    }\n",
       "\n",
       "    .dataframe thead th {\n",
       "        text-align: right;\n",
       "    }\n",
       "</style>\n",
       "<table border=\"1\" class=\"dataframe\">\n",
       "  <thead>\n",
       "    <tr style=\"text-align: right;\">\n",
       "      <th></th>\n",
       "      <th>no</th>\n",
       "    </tr>\n",
       "    <tr>\n",
       "      <th>host</th>\n",
       "      <th></th>\n",
       "    </tr>\n",
       "  </thead>\n",
       "  <tbody>\n",
       "    <tr>\n",
       "      <th>other</th>\n",
       "      <td>1</td>\n",
       "    </tr>\n",
       "    <tr>\n",
       "      <th>that</th>\n",
       "      <td>2</td>\n",
       "    </tr>\n",
       "    <tr>\n",
       "      <th>this</th>\n",
       "      <td>3</td>\n",
       "    </tr>\n",
       "  </tbody>\n",
       "</table>\n",
       "</div>"
      ],
      "text/plain": [
       "       no\n",
       "host     \n",
       "other   1\n",
       "that    2\n",
       "this    3"
      ]
     },
     "execution_count": 82,
     "metadata": {},
     "output_type": "execute_result"
    }
   ],
   "source": [
    "df.groupby('host').agg(\"idxmax\")"
   ]
  },
  {
   "cell_type": "code",
   "execution_count": null,
   "metadata": {},
   "outputs": [],
   "source": []
  }
 ],
 "metadata": {
  "interpreter": {
   "hash": "95ca0209432e1500680d99df1be6ed0260da8e8f7d16ec0ad4521083d5a74131"
  },
  "kernelspec": {
   "display_name": "Python 3.8.12 64-bit ('NSE Price Prediction': conda)",
   "language": "python",
   "name": "python3"
  },
  "language_info": {
   "codemirror_mode": {
    "name": "ipython",
    "version": 3
   },
   "file_extension": ".py",
   "mimetype": "text/x-python",
   "name": "python",
   "nbconvert_exporter": "python",
   "pygments_lexer": "ipython3",
   "version": "3.8.12"
  },
  "orig_nbformat": 4
 },
 "nbformat": 4,
 "nbformat_minor": 2
}
