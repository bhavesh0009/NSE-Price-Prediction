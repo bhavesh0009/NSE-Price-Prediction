{
 "cells": [
  {
   "cell_type": "code",
   "execution_count": 79,
   "metadata": {},
   "outputs": [],
   "source": [
    "from NSEDownload import stocks\n",
    "import glob\n",
    "import pandas as pd\n",
    "import time\n",
    "from random import randint\n",
    "import os\n",
    "import numpy as np"
   ]
  },
  {
   "cell_type": "code",
   "execution_count": 12,
   "metadata": {},
   "outputs": [],
   "source": [
    "all_n50_scripts = pd.read_csv('data/nifty_50.csv')"
   ]
  },
  {
   "cell_type": "markdown",
   "metadata": {},
   "source": [
    "This file contains NIFTY50 index as well. Removing it from the list."
   ]
  },
  {
   "cell_type": "code",
   "execution_count": 13,
   "metadata": {},
   "outputs": [],
   "source": [
    "all_n50_scripts = list(all_n50_scripts.Symbol)\n",
    "all_n50_scripts = all_n50_scripts[1:]"
   ]
  },
  {
   "cell_type": "code",
   "execution_count": 14,
   "metadata": {},
   "outputs": [],
   "source": [
    "completed_files = os.listdir('data\\Adjusted')\n",
    "completed_files = [file.split('.')[0] for file in completed_files if file.endswith('.csv')]"
   ]
  },
  {
   "cell_type": "code",
   "execution_count": 15,
   "metadata": {},
   "outputs": [
    {
     "name": "stdout",
     "output_type": "stream",
     "text": [
      "1\n"
     ]
    }
   ],
   "source": [
    "all_n50_scripts = [script for script in all_n50_scripts if script not in completed_files]\n",
    "print(len(all_n50_scripts))"
   ]
  },
  {
   "cell_type": "code",
   "execution_count": 16,
   "metadata": {},
   "outputs": [
    {
     "name": "stdout",
     "output_type": "stream",
     "text": [
      "Runnning for EICHERMOT\n",
      "EICHERMOT\n",
      "SPLIT  on :  24-Aug-2020  and ratio is :  10.0\n"
     ]
    }
   ],
   "source": [
    "for script in all_n50_scripts:\n",
    "    try:\n",
    "        print(\"Runnning for {}\".format(script))\n",
    "        df = stocks.get_adjusted_stock(stockSymbol = script, start_date = '1-1-2000', end_date = '18-1-2022')\n",
    "        df = df.reset_index()\n",
    "        if df.shape[0] > 1:\n",
    "            df.to_csv(\"data\\Adjusted\\{}.csv\".format(script), index=False)\n",
    "    except:\n",
    "        print(\"Not successful for {}\".format(script))\n",
    "        time.sleep(randint(3,10))\n",
    "        pass\n",
    "    time.sleep(randint(3,10))"
   ]
  },
  {
   "cell_type": "markdown",
   "metadata": {},
   "source": [
    "There are changes in symbol for few companies. Let's replace older symbol with latest one and merge all files into one."
   ]
  },
  {
   "cell_type": "code",
   "execution_count": 17,
   "metadata": {},
   "outputs": [],
   "source": [
    "file_path = 'data\\Adjusted'\n",
    "completed_files = os.listdir(file_path)\n",
    "completed_files = [file for file in completed_files if file.endswith('.csv')]"
   ]
  },
  {
   "cell_type": "code",
   "execution_count": 21,
   "metadata": {},
   "outputs": [],
   "source": [
    "all_scripts_list =[]\n",
    "for file in completed_files:\n",
    "    df = pd.read_csv(file_path + '\\\\' + file)\n",
    "    if len(df['Symbol'].unique()) > 1:\n",
    "        latest_symbol = df.tail(1)['Symbol'].values\n",
    "        df['Symbol'] = latest_symbol[0]\n",
    "    all_scripts_list.append(df)"
   ]
  },
  {
   "cell_type": "code",
   "execution_count": 22,
   "metadata": {},
   "outputs": [],
   "source": [
    "all_scripts_df = pd.concat(all_scripts_list, axis=0, ignore_index=True)"
   ]
  },
  {
   "cell_type": "markdown",
   "metadata": {},
   "source": [
    "This Data needs some cleaning before consumption. Next few steps will aim towards inspecting every column, changing data type(if required) and cleaning it."
   ]
  },
  {
   "cell_type": "code",
   "execution_count": 23,
   "metadata": {},
   "outputs": [],
   "source": [
    "all_scripts_df.Date = pd.to_datetime(all_scripts_df.Date)"
   ]
  },
  {
   "cell_type": "code",
   "execution_count": 24,
   "metadata": {},
   "outputs": [],
   "source": [
    "all_scripts_df = all_scripts_df.drop(['Series'], axis=1)"
   ]
  },
  {
   "cell_type": "code",
   "execution_count": 25,
   "metadata": {},
   "outputs": [
    {
     "data": {
      "text/plain": [
       "Index(['Date', 'Symbol', 'Open Price', 'High Price', 'Low Price', 'Last Price',\n",
       "       'Close Price', 'Average Price', 'Total Traded Quantity', 'Turnover',\n",
       "       'No. of Trades', 'Deliverable Qty', '% Dly Qt to Traded Qty', ' '],\n",
       "      dtype='object')"
      ]
     },
     "execution_count": 25,
     "metadata": {},
     "output_type": "execute_result"
    }
   ],
   "source": [
    "all_scripts_df.columns"
   ]
  },
  {
   "cell_type": "code",
   "execution_count": 26,
   "metadata": {},
   "outputs": [],
   "source": [
    "all_scripts_df = all_scripts_df.rename(columns={'Open Price' : 'Open',\n",
    "'Open Price' : 'Open',\n",
    "'High Price' : 'High',\n",
    "'Low Price' : 'Low',\n",
    "'Last Price' : 'Last',\n",
    "'Close Price' : 'Close',\n",
    "'Average Price' : 'Average',\n",
    "'Total Traded Quantity' : 'Quantity',\n",
    "'No. of Trades' : 'Trades',\n",
    "'Deliverable Qty' : 'Deliverable_quatity',\n",
    "'% Dly Qt to Traded Qty' : 'Deliverable_quatity_pct',\n",
    "})"
   ]
  },
  {
   "cell_type": "code",
   "execution_count": 27,
   "metadata": {},
   "outputs": [],
   "source": [
    "all_scripts_df = all_scripts_df[['Date', 'Symbol', 'Open', 'High', 'Low', 'Last', 'Close', 'Average',\n",
    "       'Quantity', 'Turnover', 'Trades', 'Deliverable_quatity','Deliverable_quatity_pct']]"
   ]
  },
  {
   "cell_type": "code",
   "execution_count": 28,
   "metadata": {},
   "outputs": [],
   "source": [
    "all_scripts_df.loc[all_scripts_df.Trades=='-','Trades'] = 0\n",
    "all_scripts_df['Trades'] = all_scripts_df['Trades'].astype('int')"
   ]
  },
  {
   "cell_type": "code",
   "execution_count": 29,
   "metadata": {},
   "outputs": [],
   "source": [
    "all_scripts_df.loc[all_scripts_df.Deliverable_quatity=='-','Deliverable_quatity'] = -1\n",
    "all_scripts_df['Deliverable_quatity'] = all_scripts_df['Deliverable_quatity'].astype('int')"
   ]
  },
  {
   "cell_type": "code",
   "execution_count": 30,
   "metadata": {},
   "outputs": [],
   "source": [
    "all_scripts_df.loc[all_scripts_df.Deliverable_quatity_pct=='-','Deliverable_quatity_pct'] = -1\n",
    "all_scripts_df['Deliverable_quatity_pct'] = all_scripts_df['Deliverable_quatity_pct'].astype('float64')"
   ]
  },
  {
   "cell_type": "code",
   "execution_count": 31,
   "metadata": {},
   "outputs": [],
   "source": [
    "all_scripts_df.loc[all_scripts_df.Trades==0, 'Trades'] = (all_scripts_df[all_scripts_df.Trades==0]['Deliverable_quatity'] * 100) / (all_scripts_df[all_scripts_df.Trades==0]['Deliverable_quatity_pct'] )"
   ]
  },
  {
   "cell_type": "code",
   "execution_count": 32,
   "metadata": {},
   "outputs": [],
   "source": [
    "all_scripts_df = all_scripts_df.sort_values(by=['Symbol','Date'])"
   ]
  },
  {
   "cell_type": "code",
   "execution_count": 66,
   "metadata": {},
   "outputs": [],
   "source": [
    "all_scripts_df['10d_max'] = all_scripts_df.groupby('Symbol').rolling(10)['Average'].max().groupby(level=0).shift(-10).droplevel(0)"
   ]
  },
  {
   "cell_type": "code",
   "execution_count": 70,
   "metadata": {},
   "outputs": [],
   "source": [
    "all_scripts_df['10d_pct_change'] = (all_scripts_df['10d_max'] / all_scripts_df['Close'])-1"
   ]
  },
  {
   "cell_type": "code",
   "execution_count": 74,
   "metadata": {},
   "outputs": [],
   "source": [
    "all_scripts_df = all_scripts_df.drop('10d_max', axis=1)"
   ]
  },
  {
   "cell_type": "code",
   "execution_count": 75,
   "metadata": {},
   "outputs": [
    {
     "data": {
      "text/html": [
       "<div>\n",
       "<style scoped>\n",
       "    .dataframe tbody tr th:only-of-type {\n",
       "        vertical-align: middle;\n",
       "    }\n",
       "\n",
       "    .dataframe tbody tr th {\n",
       "        vertical-align: top;\n",
       "    }\n",
       "\n",
       "    .dataframe thead th {\n",
       "        text-align: right;\n",
       "    }\n",
       "</style>\n",
       "<table border=\"1\" class=\"dataframe\">\n",
       "  <thead>\n",
       "    <tr style=\"text-align: right;\">\n",
       "      <th></th>\n",
       "      <th>Date</th>\n",
       "      <th>Symbol</th>\n",
       "      <th>Open</th>\n",
       "      <th>High</th>\n",
       "      <th>Low</th>\n",
       "      <th>Last</th>\n",
       "      <th>Close</th>\n",
       "      <th>Average</th>\n",
       "      <th>Quantity</th>\n",
       "      <th>Turnover</th>\n",
       "      <th>Trades</th>\n",
       "      <th>Deliverable_quatity</th>\n",
       "      <th>Deliverable_quatity_pct</th>\n",
       "      <th>10d_pct_change</th>\n",
       "    </tr>\n",
       "  </thead>\n",
       "  <tbody>\n",
       "    <tr>\n",
       "      <th>0</th>\n",
       "      <td>2007-11-27</td>\n",
       "      <td>ADANIPORTS</td>\n",
       "      <td>154.00</td>\n",
       "      <td>210.00</td>\n",
       "      <td>154.0</td>\n",
       "      <td>191.8</td>\n",
       "      <td>192.58</td>\n",
       "      <td>196.944</td>\n",
       "      <td>27294366</td>\n",
       "      <td>2.687719e+10</td>\n",
       "      <td>2.729684e+07</td>\n",
       "      <td>9859619</td>\n",
       "      <td>36.12</td>\n",
       "      <td>0.149206</td>\n",
       "    </tr>\n",
       "    <tr>\n",
       "      <th>1</th>\n",
       "      <td>2007-11-28</td>\n",
       "      <td>ADANIPORTS</td>\n",
       "      <td>196.80</td>\n",
       "      <td>198.00</td>\n",
       "      <td>174.8</td>\n",
       "      <td>177.0</td>\n",
       "      <td>178.78</td>\n",
       "      <td>188.276</td>\n",
       "      <td>4581338</td>\n",
       "      <td>4.312765e+09</td>\n",
       "      <td>4.581583e+06</td>\n",
       "      <td>1453278</td>\n",
       "      <td>31.72</td>\n",
       "      <td>0.237913</td>\n",
       "    </tr>\n",
       "    <tr>\n",
       "      <th>2</th>\n",
       "      <td>2007-11-29</td>\n",
       "      <td>ADANIPORTS</td>\n",
       "      <td>181.80</td>\n",
       "      <td>182.95</td>\n",
       "      <td>168.2</td>\n",
       "      <td>177.4</td>\n",
       "      <td>176.84</td>\n",
       "      <td>177.618</td>\n",
       "      <td>5124121</td>\n",
       "      <td>4.550658e+09</td>\n",
       "      <td>5.122979e+06</td>\n",
       "      <td>1069678</td>\n",
       "      <td>20.88</td>\n",
       "      <td>0.254343</td>\n",
       "    </tr>\n",
       "    <tr>\n",
       "      <th>3</th>\n",
       "      <td>2007-11-30</td>\n",
       "      <td>ADANIPORTS</td>\n",
       "      <td>178.00</td>\n",
       "      <td>191.60</td>\n",
       "      <td>178.0</td>\n",
       "      <td>185.8</td>\n",
       "      <td>184.31</td>\n",
       "      <td>185.834</td>\n",
       "      <td>4609762</td>\n",
       "      <td>4.283257e+09</td>\n",
       "      <td>4.610285e+06</td>\n",
       "      <td>1260913</td>\n",
       "      <td>27.35</td>\n",
       "      <td>0.214855</td>\n",
       "    </tr>\n",
       "    <tr>\n",
       "      <th>4</th>\n",
       "      <td>2007-12-03</td>\n",
       "      <td>ADANIPORTS</td>\n",
       "      <td>187.95</td>\n",
       "      <td>199.00</td>\n",
       "      <td>184.4</td>\n",
       "      <td>196.0</td>\n",
       "      <td>193.86</td>\n",
       "      <td>193.130</td>\n",
       "      <td>2977470</td>\n",
       "      <td>2.875200e+09</td>\n",
       "      <td>2.977464e+06</td>\n",
       "      <td>816123</td>\n",
       "      <td>27.41</td>\n",
       "      <td>0.155009</td>\n",
       "    </tr>\n",
       "  </tbody>\n",
       "</table>\n",
       "</div>"
      ],
      "text/plain": [
       "        Date      Symbol    Open    High    Low   Last   Close  Average  \\\n",
       "0 2007-11-27  ADANIPORTS  154.00  210.00  154.0  191.8  192.58  196.944   \n",
       "1 2007-11-28  ADANIPORTS  196.80  198.00  174.8  177.0  178.78  188.276   \n",
       "2 2007-11-29  ADANIPORTS  181.80  182.95  168.2  177.4  176.84  177.618   \n",
       "3 2007-11-30  ADANIPORTS  178.00  191.60  178.0  185.8  184.31  185.834   \n",
       "4 2007-12-03  ADANIPORTS  187.95  199.00  184.4  196.0  193.86  193.130   \n",
       "\n",
       "   Quantity      Turnover        Trades  Deliverable_quatity  \\\n",
       "0  27294366  2.687719e+10  2.729684e+07              9859619   \n",
       "1   4581338  4.312765e+09  4.581583e+06              1453278   \n",
       "2   5124121  4.550658e+09  5.122979e+06              1069678   \n",
       "3   4609762  4.283257e+09  4.610285e+06              1260913   \n",
       "4   2977470  2.875200e+09  2.977464e+06               816123   \n",
       "\n",
       "   Deliverable_quatity_pct  10d_pct_change  \n",
       "0                    36.12        0.149206  \n",
       "1                    31.72        0.237913  \n",
       "2                    20.88        0.254343  \n",
       "3                    27.35        0.214855  \n",
       "4                    27.41        0.155009  "
      ]
     },
     "execution_count": 75,
     "metadata": {},
     "output_type": "execute_result"
    }
   ],
   "source": [
    "all_scripts_df.head()"
   ]
  },
  {
   "cell_type": "code",
   "execution_count": null,
   "metadata": {},
   "outputs": [],
   "source": [
    "np.mean(abs(all_scripts_df['10d_pct_change']))"
   ]
  },
  {
   "cell_type": "code",
   "execution_count": 78,
   "metadata": {},
   "outputs": [
    {
     "data": {
      "text/plain": [
       "count    239792.000000\n",
       "mean          0.044233\n",
       "std           0.057414\n",
       "min          -0.926342\n",
       "25%           0.007905\n",
       "50%           0.030774\n",
       "75%           0.065128\n",
       "max           1.010024\n",
       "Name: 10d_pct_change, dtype: float64"
      ]
     },
     "execution_count": 78,
     "metadata": {},
     "output_type": "execute_result"
    }
   ],
   "source": [
    "all_scripts_df['10d_pct_change'].describe()"
   ]
  },
  {
   "cell_type": "code",
   "execution_count": 82,
   "metadata": {},
   "outputs": [],
   "source": [
    "all_scripts_df.to_csv('data/n50_data.csv',index=False)"
   ]
  },
  {
   "cell_type": "code",
   "execution_count": null,
   "metadata": {},
   "outputs": [],
   "source": []
  }
 ],
 "metadata": {
  "interpreter": {
   "hash": "95ca0209432e1500680d99df1be6ed0260da8e8f7d16ec0ad4521083d5a74131"
  },
  "kernelspec": {
   "display_name": "Python 3.8.12 64-bit ('NSE Price Prediction': conda)",
   "language": "python",
   "name": "python3"
  },
  "language_info": {
   "codemirror_mode": {
    "name": "ipython",
    "version": 3
   },
   "file_extension": ".py",
   "mimetype": "text/x-python",
   "name": "python",
   "nbconvert_exporter": "python",
   "pygments_lexer": "ipython3",
   "version": "3.8.12"
  },
  "orig_nbformat": 4
 },
 "nbformat": 4,
 "nbformat_minor": 2
}
