{
 "cells": [
  {
   "cell_type": "code",
   "execution_count": 1,
   "metadata": {},
   "outputs": [],
   "source": [
    "import pandas as pd\n",
    "import numpy as np"
   ]
  },
  {
   "cell_type": "code",
   "execution_count": 3,
   "metadata": {},
   "outputs": [],
   "source": [
    "df_n50_stocks = pd.read_csv(r\"data\\Adjusted\\n50_adjusted.csv\")"
   ]
  },
  {
   "cell_type": "code",
   "execution_count": 5,
   "metadata": {},
   "outputs": [],
   "source": [
    "df_n50_stocks = df_n50_stocks.drop_duplicates()"
   ]
  },
  {
   "cell_type": "code",
   "execution_count": 6,
   "metadata": {},
   "outputs": [
    {
     "data": {
      "text/plain": [
       "(226166, 14)"
      ]
     },
     "execution_count": 6,
     "metadata": {},
     "output_type": "execute_result"
    }
   ],
   "source": [
    "df_n50_stocks.shape"
   ]
  },
  {
   "cell_type": "code",
   "execution_count": 25,
   "metadata": {},
   "outputs": [
    {
     "data": {
      "text/html": [
       "<div>\n",
       "<style scoped>\n",
       "    .dataframe tbody tr th:only-of-type {\n",
       "        vertical-align: middle;\n",
       "    }\n",
       "\n",
       "    .dataframe tbody tr th {\n",
       "        vertical-align: top;\n",
       "    }\n",
       "\n",
       "    .dataframe thead th {\n",
       "        text-align: right;\n",
       "    }\n",
       "</style>\n",
       "<table border=\"1\" class=\"dataframe\">\n",
       "  <thead>\n",
       "    <tr style=\"text-align: right;\">\n",
       "      <th></th>\n",
       "      <th>Symbol</th>\n",
       "      <th>Series</th>\n",
       "      <th>Open Price</th>\n",
       "      <th>High Price</th>\n",
       "      <th>Low Price</th>\n",
       "      <th>Last Price</th>\n",
       "      <th>Close Price</th>\n",
       "      <th>Average Price</th>\n",
       "      <th>Total Traded Quantity</th>\n",
       "      <th>Turnover</th>\n",
       "      <th>No. of Trades</th>\n",
       "      <th>Deliverable Qty</th>\n",
       "      <th>% Dly Qt to Traded Qty</th>\n",
       "      <th></th>\n",
       "    </tr>\n",
       "  </thead>\n",
       "  <tbody>\n",
       "    <tr>\n",
       "      <th>226298</th>\n",
       "      <td>IOC</td>\n",
       "      <td>EQ</td>\n",
       "      <td>119.20</td>\n",
       "      <td>120.00</td>\n",
       "      <td>118.35</td>\n",
       "      <td>118.90</td>\n",
       "      <td>119.15</td>\n",
       "      <td>119.02</td>\n",
       "      <td>7165590</td>\n",
       "      <td>8.528260e+08</td>\n",
       "      <td>67073</td>\n",
       "      <td>3403873</td>\n",
       "      <td>47.5</td>\n",
       "      <td></td>\n",
       "    </tr>\n",
       "    <tr>\n",
       "      <th>226299</th>\n",
       "      <td>IOC</td>\n",
       "      <td>EQ</td>\n",
       "      <td>119.65</td>\n",
       "      <td>121.50</td>\n",
       "      <td>118.85</td>\n",
       "      <td>121.50</td>\n",
       "      <td>121.15</td>\n",
       "      <td>120.22</td>\n",
       "      <td>8373086</td>\n",
       "      <td>1.006625e+09</td>\n",
       "      <td>74605</td>\n",
       "      <td>3468036</td>\n",
       "      <td>41.42</td>\n",
       "      <td></td>\n",
       "    </tr>\n",
       "    <tr>\n",
       "      <th>226300</th>\n",
       "      <td>IOC</td>\n",
       "      <td>EQ</td>\n",
       "      <td>121.50</td>\n",
       "      <td>124.40</td>\n",
       "      <td>121.35</td>\n",
       "      <td>123.30</td>\n",
       "      <td>123.30</td>\n",
       "      <td>123.22</td>\n",
       "      <td>14954005</td>\n",
       "      <td>1.842700e+09</td>\n",
       "      <td>88644</td>\n",
       "      <td>4840405</td>\n",
       "      <td>32.37</td>\n",
       "      <td></td>\n",
       "    </tr>\n",
       "    <tr>\n",
       "      <th>226301</th>\n",
       "      <td>IOC</td>\n",
       "      <td>EQ</td>\n",
       "      <td>125.00</td>\n",
       "      <td>125.00</td>\n",
       "      <td>123.20</td>\n",
       "      <td>123.70</td>\n",
       "      <td>123.75</td>\n",
       "      <td>123.88</td>\n",
       "      <td>9699015</td>\n",
       "      <td>1.201511e+09</td>\n",
       "      <td>69852</td>\n",
       "      <td>3234911</td>\n",
       "      <td>33.35</td>\n",
       "      <td></td>\n",
       "    </tr>\n",
       "    <tr>\n",
       "      <th>226302</th>\n",
       "      <td>IOC</td>\n",
       "      <td>EQ</td>\n",
       "      <td>124.20</td>\n",
       "      <td>125.55</td>\n",
       "      <td>123.35</td>\n",
       "      <td>123.75</td>\n",
       "      <td>123.95</td>\n",
       "      <td>124.60</td>\n",
       "      <td>14263853</td>\n",
       "      <td>1.777256e+09</td>\n",
       "      <td>78084</td>\n",
       "      <td>6448654</td>\n",
       "      <td>45.21</td>\n",
       "      <td></td>\n",
       "    </tr>\n",
       "  </tbody>\n",
       "</table>\n",
       "</div>"
      ],
      "text/plain": [
       "       Symbol Series  Open Price  High Price  Low Price  Last Price  \\\n",
       "226298    IOC     EQ      119.20      120.00     118.35      118.90   \n",
       "226299    IOC     EQ      119.65      121.50     118.85      121.50   \n",
       "226300    IOC     EQ      121.50      124.40     121.35      123.30   \n",
       "226301    IOC     EQ      125.00      125.00     123.20      123.70   \n",
       "226302    IOC     EQ      124.20      125.55     123.35      123.75   \n",
       "\n",
       "        Close Price  Average Price  Total Traded Quantity      Turnover  \\\n",
       "226298       119.15         119.02                7165590  8.528260e+08   \n",
       "226299       121.15         120.22                8373086  1.006625e+09   \n",
       "226300       123.30         123.22               14954005  1.842700e+09   \n",
       "226301       123.75         123.88                9699015  1.201511e+09   \n",
       "226302       123.95         124.60               14263853  1.777256e+09   \n",
       "\n",
       "       No. of Trades Deliverable Qty % Dly Qt to Traded Qty     \n",
       "226298         67073         3403873                   47.5     \n",
       "226299         74605         3468036                  41.42     \n",
       "226300         88644         4840405                  32.37     \n",
       "226301         69852         3234911                  33.35     \n",
       "226302         78084         6448654                  45.21     "
      ]
     },
     "execution_count": 25,
     "metadata": {},
     "output_type": "execute_result"
    }
   ],
   "source": [
    "df_n50_stocks.tail()"
   ]
  },
  {
   "cell_type": "code",
   "execution_count": 23,
   "metadata": {},
   "outputs": [
    {
     "data": {
      "text/plain": [
       "array(['HINDALC0', 'HINDALCO', 'SHREECEM', 'DIVISLAB', 'HCLTECH', 'TECHM',\n",
       "       'EICHERMOT', 'BAJAUTOFIN', 'BAJFINANCE', 'POWERGRID', 'TELCO',\n",
       "       'TATAMOTORS', 'TCS', 'HDFCLIFE', 'BAJAJFINSV', 'NESTLEIND', 'NTPC',\n",
       "       'BRITANNIA', 'INDUSINDBK', 'HINDLEVER', 'HINDUNILVR', 'TISCO',\n",
       "       'TATASTEEL', 'MARUTI', 'LT', 'COALINDIA', 'BAJAJ-AUTO', 'UNIPHOS',\n",
       "       'UPL', 'INFOSYSTCH', 'INFY', 'SBILIFE', 'BHARTI', 'BHARTIARTL',\n",
       "       'TATATEA', 'TATAGLOBAL', 'TATACONSUM', 'UTIBANK', 'AXISBANK',\n",
       "       'KOTAKMAH', 'KOTAKBANK', 'HEROHONDA', 'HEROMOTOCO', 'MUNDRAPORT',\n",
       "       'ADANIPORTS'], dtype=object)"
      ]
     },
     "execution_count": 23,
     "metadata": {},
     "output_type": "execute_result"
    }
   ],
   "source": [
    "df_n50_stocks[df_n50_stocks['Symbol'].map((df_n50_stocks.Symbol.value_counts() != 5486))].Symbol.unique()"
   ]
  },
  {
   "cell_type": "code",
   "execution_count": null,
   "metadata": {},
   "outputs": [],
   "source": []
  }
 ],
 "metadata": {
  "interpreter": {
   "hash": "95ca0209432e1500680d99df1be6ed0260da8e8f7d16ec0ad4521083d5a74131"
  },
  "kernelspec": {
   "display_name": "Python 3.8.12 64-bit ('NSE Price Prediction': conda)",
   "language": "python",
   "name": "python3"
  },
  "language_info": {
   "codemirror_mode": {
    "name": "ipython",
    "version": 3
   },
   "file_extension": ".py",
   "mimetype": "text/x-python",
   "name": "python",
   "nbconvert_exporter": "python",
   "pygments_lexer": "ipython3",
   "version": "3.8.12"
  },
  "orig_nbformat": 4
 },
 "nbformat": 4,
 "nbformat_minor": 2
}
