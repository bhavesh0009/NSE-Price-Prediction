{
 "cells": [
  {
   "cell_type": "code",
   "execution_count": 158,
   "metadata": {},
   "outputs": [],
   "source": [
    "import pandas as pd\n",
    "import numpy as np\n",
    "import pandas_ta as ta"
   ]
  },
  {
   "cell_type": "code",
   "execution_count": 159,
   "metadata": {},
   "outputs": [],
   "source": [
    "df = pd.read_csv('data/n50_data.csv')"
   ]
  },
  {
   "cell_type": "code",
   "execution_count": 160,
   "metadata": {},
   "outputs": [],
   "source": [
    "df['Date'] = pd.to_datetime(df['Date'])"
   ]
  },
  {
   "cell_type": "code",
   "execution_count": 161,
   "metadata": {},
   "outputs": [
    {
     "name": "stdout",
     "output_type": "stream",
     "text": [
      "(240148, 14)\n",
      "(142086, 14)\n"
     ]
    }
   ],
   "source": [
    "print(df.shape)\n",
    "df = df.drop_duplicates()\n",
    "df = df[df['Date'] >= '2010-04-01']\n",
    "df = df.dropna()\n",
    "print(df.shape)"
   ]
  },
  {
   "cell_type": "code",
   "execution_count": 162,
   "metadata": {},
   "outputs": [],
   "source": [
    "df_wipro = df[df.Symbol=='WIPRO']"
   ]
  },
  {
   "cell_type": "code",
   "execution_count": 163,
   "metadata": {},
   "outputs": [],
   "source": [
    "df_wipro.set_index(pd.DatetimeIndex(df_wipro[\"Date\"]), inplace=True)"
   ]
  },
  {
   "cell_type": "code",
   "execution_count": 164,
   "metadata": {},
   "outputs": [
    {
     "data": {
      "text/html": [
       "<div>\n",
       "<style scoped>\n",
       "    .dataframe tbody tr th:only-of-type {\n",
       "        vertical-align: middle;\n",
       "    }\n",
       "\n",
       "    .dataframe tbody tr th {\n",
       "        vertical-align: top;\n",
       "    }\n",
       "\n",
       "    .dataframe thead th {\n",
       "        text-align: right;\n",
       "    }\n",
       "</style>\n",
       "<table border=\"1\" class=\"dataframe\">\n",
       "  <thead>\n",
       "    <tr style=\"text-align: right;\">\n",
       "      <th></th>\n",
       "      <th>Date</th>\n",
       "      <th>Symbol</th>\n",
       "      <th>Open</th>\n",
       "      <th>High</th>\n",
       "      <th>Low</th>\n",
       "      <th>Last</th>\n",
       "      <th>Close</th>\n",
       "      <th>Average</th>\n",
       "      <th>Volume</th>\n",
       "      <th>Turnover</th>\n",
       "      <th>Trades</th>\n",
       "      <th>Deliverable_quatity</th>\n",
       "      <th>Deliverable_quatity_pct</th>\n",
       "      <th>10d_pct_change</th>\n",
       "    </tr>\n",
       "    <tr>\n",
       "      <th>Date</th>\n",
       "      <th></th>\n",
       "      <th></th>\n",
       "      <th></th>\n",
       "      <th></th>\n",
       "      <th></th>\n",
       "      <th></th>\n",
       "      <th></th>\n",
       "      <th></th>\n",
       "      <th></th>\n",
       "      <th></th>\n",
       "      <th></th>\n",
       "      <th></th>\n",
       "      <th></th>\n",
       "      <th></th>\n",
       "    </tr>\n",
       "  </thead>\n",
       "  <tbody>\n",
       "    <tr>\n",
       "      <th>2010-04-01</th>\n",
       "      <td>2010-04-01</td>\n",
       "      <td>WIPRO</td>\n",
       "      <td>159.975</td>\n",
       "      <td>163.2375</td>\n",
       "      <td>159.30000</td>\n",
       "      <td>162.0000</td>\n",
       "      <td>162.30375</td>\n",
       "      <td>162.07650</td>\n",
       "      <td>642890</td>\n",
       "      <td>4.631018e+08</td>\n",
       "      <td>642928.887951</td>\n",
       "      <td>304684</td>\n",
       "      <td>47.39</td>\n",
       "      <td>0.006765</td>\n",
       "    </tr>\n",
       "    <tr>\n",
       "      <th>2010-04-05</th>\n",
       "      <td>2010-04-05</td>\n",
       "      <td>WIPRO</td>\n",
       "      <td>162.675</td>\n",
       "      <td>163.5300</td>\n",
       "      <td>160.43625</td>\n",
       "      <td>162.6975</td>\n",
       "      <td>162.48375</td>\n",
       "      <td>161.61525</td>\n",
       "      <td>390240</td>\n",
       "      <td>2.803044e+08</td>\n",
       "      <td>390264.215968</td>\n",
       "      <td>135890</td>\n",
       "      <td>34.82</td>\n",
       "      <td>0.005650</td>\n",
       "    </tr>\n",
       "    <tr>\n",
       "      <th>2010-04-06</th>\n",
       "      <td>2010-04-06</td>\n",
       "      <td>WIPRO</td>\n",
       "      <td>163.125</td>\n",
       "      <td>163.3500</td>\n",
       "      <td>159.82875</td>\n",
       "      <td>161.1000</td>\n",
       "      <td>160.92000</td>\n",
       "      <td>160.61175</td>\n",
       "      <td>461997</td>\n",
       "      <td>3.297878e+08</td>\n",
       "      <td>461989.291598</td>\n",
       "      <td>224342</td>\n",
       "      <td>48.56</td>\n",
       "      <td>0.015422</td>\n",
       "    </tr>\n",
       "    <tr>\n",
       "      <th>2010-04-07</th>\n",
       "      <td>2010-04-07</td>\n",
       "      <td>WIPRO</td>\n",
       "      <td>162.000</td>\n",
       "      <td>162.0000</td>\n",
       "      <td>159.07500</td>\n",
       "      <td>160.8750</td>\n",
       "      <td>160.81875</td>\n",
       "      <td>160.02900</td>\n",
       "      <td>800067</td>\n",
       "      <td>5.690373e+08</td>\n",
       "      <td>800011.773363</td>\n",
       "      <td>543608</td>\n",
       "      <td>67.95</td>\n",
       "      <td>0.016062</td>\n",
       "    </tr>\n",
       "    <tr>\n",
       "      <th>2010-04-08</th>\n",
       "      <td>2010-04-08</td>\n",
       "      <td>WIPRO</td>\n",
       "      <td>160.875</td>\n",
       "      <td>163.1025</td>\n",
       "      <td>159.75000</td>\n",
       "      <td>160.9650</td>\n",
       "      <td>161.26875</td>\n",
       "      <td>161.55225</td>\n",
       "      <td>627844</td>\n",
       "      <td>4.507986e+08</td>\n",
       "      <td>627842.044135</td>\n",
       "      <td>270286</td>\n",
       "      <td>43.05</td>\n",
       "      <td>0.013226</td>\n",
       "    </tr>\n",
       "  </tbody>\n",
       "</table>\n",
       "</div>"
      ],
      "text/plain": [
       "                 Date Symbol     Open      High        Low      Last  \\\n",
       "Date                                                                   \n",
       "2010-04-01 2010-04-01  WIPRO  159.975  163.2375  159.30000  162.0000   \n",
       "2010-04-05 2010-04-05  WIPRO  162.675  163.5300  160.43625  162.6975   \n",
       "2010-04-06 2010-04-06  WIPRO  163.125  163.3500  159.82875  161.1000   \n",
       "2010-04-07 2010-04-07  WIPRO  162.000  162.0000  159.07500  160.8750   \n",
       "2010-04-08 2010-04-08  WIPRO  160.875  163.1025  159.75000  160.9650   \n",
       "\n",
       "                Close    Average  Volume      Turnover         Trades  \\\n",
       "Date                                                                    \n",
       "2010-04-01  162.30375  162.07650  642890  4.631018e+08  642928.887951   \n",
       "2010-04-05  162.48375  161.61525  390240  2.803044e+08  390264.215968   \n",
       "2010-04-06  160.92000  160.61175  461997  3.297878e+08  461989.291598   \n",
       "2010-04-07  160.81875  160.02900  800067  5.690373e+08  800011.773363   \n",
       "2010-04-08  161.26875  161.55225  627844  4.507986e+08  627842.044135   \n",
       "\n",
       "            Deliverable_quatity  Deliverable_quatity_pct  10d_pct_change  \n",
       "Date                                                                      \n",
       "2010-04-01               304684                    47.39        0.006765  \n",
       "2010-04-05               135890                    34.82        0.005650  \n",
       "2010-04-06               224342                    48.56        0.015422  \n",
       "2010-04-07               543608                    67.95        0.016062  \n",
       "2010-04-08               270286                    43.05        0.013226  "
      ]
     },
     "execution_count": 164,
     "metadata": {},
     "output_type": "execute_result"
    }
   ],
   "source": [
    "df_wipro.head()"
   ]
  },
  {
   "cell_type": "code",
   "execution_count": 151,
   "metadata": {},
   "outputs": [],
   "source": [
    "df_wipro = df_wipro.drop('Date', axis=1)"
   ]
  },
  {
   "cell_type": "code",
   "execution_count": 152,
   "metadata": {},
   "outputs": [
    {
     "data": {
      "text/plain": [
       "(2920, 13)"
      ]
     },
     "execution_count": 152,
     "metadata": {},
     "output_type": "execute_result"
    }
   ],
   "source": [
    "df_wipro.shape"
   ]
  },
  {
   "cell_type": "code",
   "execution_count": 153,
   "metadata": {},
   "outputs": [],
   "source": [
    "df_wipro.ta.strategy()"
   ]
  },
  {
   "cell_type": "code",
   "execution_count": 154,
   "metadata": {},
   "outputs": [
    {
     "data": {
      "text/plain": [
       "(2920, 291)"
      ]
     },
     "execution_count": 154,
     "metadata": {},
     "output_type": "execute_result"
    }
   ],
   "source": [
    "\"\"\"\n",
    "After candels : 83\n",
    "After cycles : 84\n",
    "\"\"\"\n",
    "df_wipro.shape"
   ]
  },
  {
   "cell_type": "code",
   "execution_count": 155,
   "metadata": {},
   "outputs": [
    {
     "data": {
      "text/plain": [
       "Symbol       False\n",
       "Open         False\n",
       "High         False\n",
       "Low          False\n",
       "Last         False\n",
       "             ...  \n",
       "WCP          False\n",
       "WILLR_14      True\n",
       "WMA_10        True\n",
       "ZL_EMA_10     True\n",
       "ZS_30         True\n",
       "Length: 291, dtype: bool"
      ]
     },
     "execution_count": 155,
     "metadata": {},
     "output_type": "execute_result"
    }
   ],
   "source": [
    "df_wipro.isnull().sum()>0"
   ]
  },
  {
   "cell_type": "code",
   "execution_count": 28,
   "metadata": {},
   "outputs": [
    {
     "data": {
      "text/plain": [
       "['candles',\n",
       " 'cycles',\n",
       " 'momentum',\n",
       " 'overlap',\n",
       " 'performance',\n",
       " 'statistics',\n",
       " 'trend',\n",
       " 'volatility',\n",
       " 'volume']"
      ]
     },
     "execution_count": 28,
     "metadata": {},
     "output_type": "execute_result"
    }
   ],
   "source": [
    "df_wipro.ta.categories"
   ]
  },
  {
   "cell_type": "code",
   "execution_count": 157,
   "metadata": {},
   "outputs": [
    {
     "data": {
      "text/html": [
       "<div>\n",
       "<style scoped>\n",
       "    .dataframe tbody tr th:only-of-type {\n",
       "        vertical-align: middle;\n",
       "    }\n",
       "\n",
       "    .dataframe tbody tr th {\n",
       "        vertical-align: top;\n",
       "    }\n",
       "\n",
       "    .dataframe thead th {\n",
       "        text-align: right;\n",
       "    }\n",
       "</style>\n",
       "<table border=\"1\" class=\"dataframe\">\n",
       "  <thead>\n",
       "    <tr style=\"text-align: right;\">\n",
       "      <th></th>\n",
       "      <th>Date</th>\n",
       "      <th>Symbol</th>\n",
       "      <th>Open</th>\n",
       "      <th>High</th>\n",
       "      <th>Low</th>\n",
       "      <th>Last</th>\n",
       "      <th>Close</th>\n",
       "      <th>Average</th>\n",
       "      <th>Volume</th>\n",
       "      <th>Turnover</th>\n",
       "      <th>...</th>\n",
       "      <th>VIDYA_14</th>\n",
       "      <th>VTXP_14</th>\n",
       "      <th>VTXM_14</th>\n",
       "      <th>VWAP_D</th>\n",
       "      <th>VWMA_10</th>\n",
       "      <th>WCP</th>\n",
       "      <th>WILLR_14</th>\n",
       "      <th>WMA_10</th>\n",
       "      <th>ZL_EMA_10</th>\n",
       "      <th>ZS_30</th>\n",
       "    </tr>\n",
       "  </thead>\n",
       "  <tbody>\n",
       "    <tr>\n",
       "      <th>0</th>\n",
       "      <td>2010-04-01</td>\n",
       "      <td>WIPRO</td>\n",
       "      <td>159.975</td>\n",
       "      <td>163.2375</td>\n",
       "      <td>159.30000</td>\n",
       "      <td>162.0000</td>\n",
       "      <td>162.30375</td>\n",
       "      <td>162.07650</td>\n",
       "      <td>642890</td>\n",
       "      <td>4.631018e+08</td>\n",
       "      <td>...</td>\n",
       "      <td>NaN</td>\n",
       "      <td>NaN</td>\n",
       "      <td>NaN</td>\n",
       "      <td>161.61375</td>\n",
       "      <td>NaN</td>\n",
       "      <td>161.786250</td>\n",
       "      <td>NaN</td>\n",
       "      <td>NaN</td>\n",
       "      <td>NaN</td>\n",
       "      <td>NaN</td>\n",
       "    </tr>\n",
       "    <tr>\n",
       "      <th>1</th>\n",
       "      <td>2010-04-05</td>\n",
       "      <td>WIPRO</td>\n",
       "      <td>162.675</td>\n",
       "      <td>163.5300</td>\n",
       "      <td>160.43625</td>\n",
       "      <td>162.6975</td>\n",
       "      <td>162.48375</td>\n",
       "      <td>161.61525</td>\n",
       "      <td>390240</td>\n",
       "      <td>2.803044e+08</td>\n",
       "      <td>...</td>\n",
       "      <td>NaN</td>\n",
       "      <td>NaN</td>\n",
       "      <td>NaN</td>\n",
       "      <td>162.15000</td>\n",
       "      <td>NaN</td>\n",
       "      <td>162.233437</td>\n",
       "      <td>NaN</td>\n",
       "      <td>NaN</td>\n",
       "      <td>NaN</td>\n",
       "      <td>NaN</td>\n",
       "    </tr>\n",
       "    <tr>\n",
       "      <th>2</th>\n",
       "      <td>2010-04-06</td>\n",
       "      <td>WIPRO</td>\n",
       "      <td>163.125</td>\n",
       "      <td>163.3500</td>\n",
       "      <td>159.82875</td>\n",
       "      <td>161.1000</td>\n",
       "      <td>160.92000</td>\n",
       "      <td>160.61175</td>\n",
       "      <td>461997</td>\n",
       "      <td>3.297878e+08</td>\n",
       "      <td>...</td>\n",
       "      <td>NaN</td>\n",
       "      <td>NaN</td>\n",
       "      <td>NaN</td>\n",
       "      <td>161.36625</td>\n",
       "      <td>NaN</td>\n",
       "      <td>161.254688</td>\n",
       "      <td>NaN</td>\n",
       "      <td>NaN</td>\n",
       "      <td>NaN</td>\n",
       "      <td>NaN</td>\n",
       "    </tr>\n",
       "    <tr>\n",
       "      <th>3</th>\n",
       "      <td>2010-04-07</td>\n",
       "      <td>WIPRO</td>\n",
       "      <td>162.000</td>\n",
       "      <td>162.0000</td>\n",
       "      <td>159.07500</td>\n",
       "      <td>160.8750</td>\n",
       "      <td>160.81875</td>\n",
       "      <td>160.02900</td>\n",
       "      <td>800067</td>\n",
       "      <td>5.690373e+08</td>\n",
       "      <td>...</td>\n",
       "      <td>NaN</td>\n",
       "      <td>NaN</td>\n",
       "      <td>NaN</td>\n",
       "      <td>160.63125</td>\n",
       "      <td>NaN</td>\n",
       "      <td>160.678125</td>\n",
       "      <td>NaN</td>\n",
       "      <td>NaN</td>\n",
       "      <td>NaN</td>\n",
       "      <td>NaN</td>\n",
       "    </tr>\n",
       "    <tr>\n",
       "      <th>4</th>\n",
       "      <td>2010-04-08</td>\n",
       "      <td>WIPRO</td>\n",
       "      <td>160.875</td>\n",
       "      <td>163.1025</td>\n",
       "      <td>159.75000</td>\n",
       "      <td>160.9650</td>\n",
       "      <td>161.26875</td>\n",
       "      <td>161.55225</td>\n",
       "      <td>627844</td>\n",
       "      <td>4.507986e+08</td>\n",
       "      <td>...</td>\n",
       "      <td>NaN</td>\n",
       "      <td>NaN</td>\n",
       "      <td>NaN</td>\n",
       "      <td>161.37375</td>\n",
       "      <td>NaN</td>\n",
       "      <td>161.347500</td>\n",
       "      <td>NaN</td>\n",
       "      <td>NaN</td>\n",
       "      <td>NaN</td>\n",
       "      <td>NaN</td>\n",
       "    </tr>\n",
       "  </tbody>\n",
       "</table>\n",
       "<p>5 rows × 292 columns</p>\n",
       "</div>"
      ],
      "text/plain": [
       "        Date Symbol     Open      High        Low      Last      Close  \\\n",
       "0 2010-04-01  WIPRO  159.975  163.2375  159.30000  162.0000  162.30375   \n",
       "1 2010-04-05  WIPRO  162.675  163.5300  160.43625  162.6975  162.48375   \n",
       "2 2010-04-06  WIPRO  163.125  163.3500  159.82875  161.1000  160.92000   \n",
       "3 2010-04-07  WIPRO  162.000  162.0000  159.07500  160.8750  160.81875   \n",
       "4 2010-04-08  WIPRO  160.875  163.1025  159.75000  160.9650  161.26875   \n",
       "\n",
       "     Average  Volume      Turnover  ...  VIDYA_14  VTXP_14  VTXM_14  \\\n",
       "0  162.07650  642890  4.631018e+08  ...       NaN      NaN      NaN   \n",
       "1  161.61525  390240  2.803044e+08  ...       NaN      NaN      NaN   \n",
       "2  160.61175  461997  3.297878e+08  ...       NaN      NaN      NaN   \n",
       "3  160.02900  800067  5.690373e+08  ...       NaN      NaN      NaN   \n",
       "4  161.55225  627844  4.507986e+08  ...       NaN      NaN      NaN   \n",
       "\n",
       "      VWAP_D  VWMA_10         WCP  WILLR_14  WMA_10  ZL_EMA_10  ZS_30  \n",
       "0  161.61375      NaN  161.786250       NaN     NaN        NaN    NaN  \n",
       "1  162.15000      NaN  162.233437       NaN     NaN        NaN    NaN  \n",
       "2  161.36625      NaN  161.254688       NaN     NaN        NaN    NaN  \n",
       "3  160.63125      NaN  160.678125       NaN     NaN        NaN    NaN  \n",
       "4  161.37375      NaN  161.347500       NaN     NaN        NaN    NaN  \n",
       "\n",
       "[5 rows x 292 columns]"
      ]
     },
     "execution_count": 157,
     "metadata": {},
     "output_type": "execute_result"
    }
   ],
   "source": [
    "df_wipro.reset_index().head()"
   ]
  },
  {
   "cell_type": "code",
   "execution_count": 142,
   "metadata": {},
   "outputs": [
    {
     "data": {
      "text/plain": [
       "(2920, 291)"
      ]
     },
     "execution_count": 142,
     "metadata": {},
     "output_type": "execute_result"
    }
   ],
   "source": [
    "df_wipro.shape"
   ]
  },
  {
   "cell_type": "code",
   "execution_count": 144,
   "metadata": {},
   "outputs": [],
   "source": [
    "df_wipro.to_csv(\"wipro_with_pandas_ta_features.csv\")"
   ]
  },
  {
   "cell_type": "code",
   "execution_count": null,
   "metadata": {},
   "outputs": [],
   "source": [
    "df_list = []\n",
    "df.set_index(pd.DatetimeIndex(df[\"Date\"]), inplace=True)\n",
    "df = df.drop('Date', axis=1)\n",
    "dfg = df.groupby(['Symbol'])\n",
    "for grp in dfg.groups:\n",
    "    x = dfg.get_group(grp).copy()\n",
    "    x.ta.strategy()\n",
    "    df_list.append(x)\n",
    "newdf = pd.concat(df_list)  "
   ]
  }
 ],
 "metadata": {
  "interpreter": {
   "hash": "95ca0209432e1500680d99df1be6ed0260da8e8f7d16ec0ad4521083d5a74131"
  },
  "kernelspec": {
   "display_name": "Python 3.8.12 64-bit ('NSE Price Prediction': conda)",
   "language": "python",
   "name": "python3"
  },
  "language_info": {
   "codemirror_mode": {
    "name": "ipython",
    "version": 3
   },
   "file_extension": ".py",
   "mimetype": "text/x-python",
   "name": "python",
   "nbconvert_exporter": "python",
   "pygments_lexer": "ipython3",
   "version": "3.8.12"
  },
  "orig_nbformat": 4
 },
 "nbformat": 4,
 "nbformat_minor": 2
}
